{
 "cells": [
  {
   "cell_type": "markdown",
   "id": "39683122",
   "metadata": {},
   "source": [
    "# Chicago Car Crash Analysis"
   ]
  },
  {
   "cell_type": "markdown",
   "id": "713d662d",
   "metadata": {},
   "source": [
    "## Table of Contents\n",
    "\n",
    "### 1. [Business Understanding](#Business-Understanding)\n",
    "* 1.1 [Background](#Background)\n",
    "* 1.2 [Business Goals](#Business-Goals)\n",
    "* 1.3 [Business Success Criteria](#Business-Success-Criteria)\n",
    "   \n",
    "### 2. [Data Understanding](#Data-Understanding)\n",
    "\n",
    "\n",
    "### 3. [Data Preparation](#Data-Preparation)\n",
    "\n",
    "### 4. [Exploratory Data Analysis](#Exploratory-Data-Analysis)\n",
    "\n",
    "\n",
    "### 5. [Modeling](#Modeling)\n",
    "\n",
    "\n",
    "### 6. [Evaluation](#Evaluation)\n",
    "\n",
    "### 7. [Conclusion](#Conclusion)\n",
    "* 7.1 [Limitations](#Limitations)\n",
    "* 7.2 [Recommendations](#Recommendations)\n",
    "* 7.3 [Next Steps](#Next-Steps)\n",
    "\n",
    "### 8. [Resources](#Resources)"
   ]
  },
  {
   "cell_type": "markdown",
   "id": "197b0b36",
   "metadata": {},
   "source": [
    "## 1. <a name =\"Business-Understanding\"></a> Business Understanding"
   ]
  },
  {
   "cell_type": "markdown",
   "id": "3d706073",
   "metadata": {},
   "source": [
    "### 1.1 <a name =\"Background\"></a> Background "
   ]
  },
  {
   "cell_type": "markdown",
   "id": "0a96abfc",
   "metadata": {},
   "source": []
  },
  {
   "cell_type": "markdown",
   "id": "3d47baec",
   "metadata": {},
   "source": [
    "### 1.2 <a name =\"Business-Goals\"></a> Business Goals"
   ]
  },
  {
   "cell_type": "markdown",
   "id": "6e391456",
   "metadata": {},
   "source": []
  },
  {
   "cell_type": "markdown",
   "id": "6e28ae47",
   "metadata": {},
   "source": [
    "### 1.3 <a name =\"Business-Success-Criteria\"></a> Business Success Criteria"
   ]
  },
  {
   "cell_type": "markdown",
   "id": "ab343a75",
   "metadata": {},
   "source": []
  },
  {
   "cell_type": "markdown",
   "id": "45016a07",
   "metadata": {},
   "source": [
    "## 2. <a name =\"Data-Understanding\"></a> Data Understanding"
   ]
  },
  {
   "cell_type": "markdown",
   "id": "c338639c",
   "metadata": {},
   "source": []
  },
  {
   "cell_type": "markdown",
   "id": "067aa26c",
   "metadata": {},
   "source": [
    "## 3. <a name =\"Data-Preparation\"></a> Data Preparation"
   ]
  },
  {
   "cell_type": "markdown",
   "id": "b3eb822c",
   "metadata": {},
   "source": []
  },
  {
   "cell_type": "markdown",
   "id": "48ebbae7",
   "metadata": {},
   "source": [
    "## 4. <a name =\"Exploratory-Data-Analysis\"></a>Exploratory Data Analysis (EDA)"
   ]
  },
  {
   "cell_type": "markdown",
   "id": "633b7c47",
   "metadata": {},
   "source": []
  },
  {
   "cell_type": "markdown",
   "id": "e5d34cce",
   "metadata": {},
   "source": [
    "## 5. <a name =\"Modeling\"></a>  Modeling"
   ]
  },
  {
   "cell_type": "markdown",
   "id": "e39da3a2",
   "metadata": {},
   "source": []
  },
  {
   "cell_type": "markdown",
   "id": "f8d706d4",
   "metadata": {},
   "source": [
    "## 6. <a name =\"Evaluation\"></a> Evaluation"
   ]
  },
  {
   "cell_type": "markdown",
   "id": "7dec8f08",
   "metadata": {},
   "source": []
  },
  {
   "cell_type": "markdown",
   "id": "5a43b551",
   "metadata": {},
   "source": [
    "## 7. <a name =\"Conclusion\"></a> Conclusion"
   ]
  },
  {
   "cell_type": "markdown",
   "id": "ad120cfa",
   "metadata": {},
   "source": [
    "### 7.1 <a name =\"Limitations\"></a> Limitations"
   ]
  },
  {
   "cell_type": "markdown",
   "id": "785beb66",
   "metadata": {},
   "source": []
  },
  {
   "cell_type": "markdown",
   "id": "ecfff71a",
   "metadata": {},
   "source": [
    "### 7.2 <a name =\"Recommendations\"></a> Recommendations"
   ]
  },
  {
   "cell_type": "markdown",
   "id": "27db6e15",
   "metadata": {},
   "source": []
  },
  {
   "cell_type": "markdown",
   "id": "600acc9d",
   "metadata": {},
   "source": [
    "### 7.3 <a name =\"Next-Steps\"></a> Next Steps"
   ]
  },
  {
   "cell_type": "markdown",
   "id": "e5acd1db",
   "metadata": {},
   "source": []
  }
 ],
 "metadata": {
  "kernelspec": {
   "display_name": "Python (learn-env)",
   "language": "python",
   "name": "learn-env"
  },
  "language_info": {
   "codemirror_mode": {
    "name": "ipython",
    "version": 3
   },
   "file_extension": ".py",
   "mimetype": "text/x-python",
   "name": "python",
   "nbconvert_exporter": "python",
   "pygments_lexer": "ipython3",
   "version": "3.8.5"
  }
 },
 "nbformat": 4,
 "nbformat_minor": 5
}
