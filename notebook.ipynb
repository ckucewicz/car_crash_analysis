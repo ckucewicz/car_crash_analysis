{
 "cells": [
  {
   "cell_type": "markdown",
   "id": "cd07b480",
   "metadata": {},
   "source": [
    "# Chicago Traffic Crash Analysis"
   ]
  },
  {
   "cell_type": "markdown",
   "id": "3a33f22d",
   "metadata": {},
   "source": [
    "## Overview\n",
    "This project analyzes traffic crash data from Chicago's Open Data Portal to identify patterns and factors contributing to fatal and serious vehicle crashes. By leveraging datasets on crash incidents, involving people, and vehicles, the analysis provides actionable insights into high-risk conditions and behaviors. The results aim to inform public safety initiatives and reduce traffic incidents through data-driven decisions.\n",
    "\n",
    "\n",
    "<img src=\"./images/chicago_header_image.jpg\" width=\"1280\" height=\"640\">\n",
    "\n",
    "*Photo by [Sawyer Bengtson](https://unsplash.com/@sawyerbengtson) on Unsplash*\n",
    "___"
   ]
  },
  {
   "cell_type": "markdown",
   "id": "09f882b2",
   "metadata": {},
   "source": [
    "## Table of Contents\n",
    "\n",
    "### 1. [Business Understanding](#Business-Understanding)\n",
    "* 1.1 [Background](#Background)\n",
    "* 1.2 [Goals](#Goals)\n",
    "* 1.3 [Success Criteria](#Success-Criteria)\n",
    "   \n",
    "### 2. [Data Understanding](#Data-Understanding)\n",
    "\n",
    "\n",
    "### 3. [Data Preparation](#Data-Preparation)\n",
    "\n",
    "### 4. [Exploratory Data Analysis](#Exploratory-Data-Analysis)\n",
    "\n",
    "\n",
    "### 5. [Modeling](#Modeling)\n",
    "\n",
    "\n",
    "### 6. [Evaluation](#Evaluation)\n",
    "\n",
    "### 7. [Conclusion](#Conclusion)\n",
    "* 7.1 [Limitations](#Limitations)\n",
    "* 7.2 [Recommendations](#Recommendations)\n",
    "* 7.3 [Next Steps](#Next-Steps)\n",
    "\n",
    "### 8. [References](#References)"
   ]
  },
  {
   "cell_type": "markdown",
   "id": "352d888d",
   "metadata": {},
   "source": [
    "## 1. <a name =\"Business-Understanding\"></a> Business Understanding"
   ]
  },
  {
   "cell_type": "markdown",
   "id": "d861c7b4",
   "metadata": {},
   "source": [
    "### 1.1 <a name =\"Background\"></a> Background "
   ]
  },
  {
   "cell_type": "markdown",
   "id": "ca19396c",
   "metadata": {},
   "source": [
    "In 2023, Chicago recorded 136 traffic deaths ([CDOT, 2024](https://api.chicago.gov/filenet5/servlets/getDocumentContent?applicationId=CompleteStreets&documentId=%7B60FB7292-0000-CB1B-AC4D-334F5F94606B%7D)), a sobering reminder of the persistent challenges the city faces in ensuring road safety. Despite efforts from various cities across the U.S., traffic fatalities continue to be a major issue. In response, Chicago introduced its [Vision Zero](https://visionzeronetwork.org/about/what-is-vision-zero/) Action Plan in June 2017, committing to the shared goal of eliminating traffic fatalities and serious injuries on the city’s streets by 2026 ([Vision Zero Chicago Action Plan, 2017](https://api.chicago.gov/filenet5/servlets/getDocumentContent?applicationId=CompleteStreets&documentId=%7B0031C690-0000-C016-92E9-31618D7320B1%7D)).\n",
    "\n",
    "Traffic safety is not only a public health issue but also an equity concern, as Black and Brown communities, particularly in cities like Chicago and Philadelphia, suffer disproportionately from traffic fatalities.  In Philadelphia, zip codes with higher poverty rates see more crash hospitalizations ([City of Philadelphia, 2024](https://visionzerophl.com/plans-and-reports/annual-report-2024/)). These communities often face underinvestment in infrastructure, compounding the challenges they face in reducing fatalities and injuries.\n",
    "\n",
    "Experts agree traffic fatalities are preventable. The Vision Zero Chicago Action Plan emphasizes that crashes are “predictable and preventable” events, with speed being a leading factor in severe accidents ([Vision Zero Chicago Action Plan, 2017](https://api.chicago.gov/filenet5/servlets/getDocumentContent?applicationId=CompleteStreets&documentId=%7B0031C690-0000-C016-92E9-31618D7320B1%7D)). Reducing speed is critical but requires addressing driver behavior through strategies like speed cushions, narrower lanes, and lower speed limits—though their effectiveness is debated.\n",
    "\n",
    "Through my involvement with the City of Philadelphia’s Vision Zero Ambassadors program, I gained valuable experience engaging underserved communities, raising awareness, and understanding the importance of data-driven interventions to reduce fatalities."
   ]
  },
  {
   "cell_type": "markdown",
   "id": "a403cd17",
   "metadata": {},
   "source": [
    "### 1.2 <a name =\"Goals\"></a> Goals"
   ]
  },
  {
   "cell_type": "markdown",
   "id": "ca12a799",
   "metadata": {},
   "source": [
    "The goal of this project is to use crash data from CDOT's Open Data Portal to develop a model that predicts whether a crash resulted in serious injuries. For the purposes of this project, ‘serious’ injuries refer to both fatalities and ‘incapacitating’ injuries. CDOT defines incapacitating injuries as: *'injuries that prevent an individual from walking, driving, or performing normal activities'*.\n",
    "\n",
    "With the focus on using the model's predictions to identify contributing factors in serious crashes, this project is inherently attempting to verify CDOT’s claim that speed is a key factor in the severity of crashes, as outlined in their [2024 Annual Traffic Report](https://api.chicago.gov/filenet5/servlets/getDocumentContent?applicationId=CompleteStreets&documentId=%7B60FB7292-0000-CB1B-AC4D-334F5F94606B%7D). By analyzing speed alongside other factors such as road conditions, road design, enforcement, and vehicle type and size, the model will provide valuable insights into how these elements contribute to traffic fatalities and serious injuries.\n",
    "\n",
    "The model will be designed to be easily interpretable, meaning it will provide clear and understandable explanations for how it arrives at its predictions. This is crucial for decision-makers, as it allows them to trust the model’s results and use it to guide traffic safety policies and resource allocation. An easily interpretable model will help agencies like CDOT and the Chicago Metropolitan Agency for Planning (CMAP) target resources more effectively, allow policymakers to evaluate the impact of different safety strategies, and help make informed decisions about where to focus their efforts. Ultimately, this model will assist in making data-driven decisions that reduce fatalities and improve the overall safety of Chicago’s roadways."
   ]
  },
  {
   "cell_type": "markdown",
   "id": "7ac5452d",
   "metadata": {},
   "source": [
    "### 1.3 <a name =\"Success-Criteria\"></a> Success Criteria"
   ]
  },
  {
   "cell_type": "markdown",
   "id": "5f9bf3f4",
   "metadata": {},
   "source": [
    "The success of this project will be measured by how effectively the model explains its predictions and identifies key features driving serious crashes. Due to the significant class imbalance, where serious crashes are much less frequent than non-serious ones, traditional metrics like accuracy are not suitable. Instead, the focus will be on Precision-Recall Area Under the Curve (PR AUC), which better evaluates performance for the minority class—serious crashes.\n",
    "\n",
    "PR AUC is the primary metric because it effectively evaluates performance for the minority class (serious crashes), which is crucial given the class imbalance. By focusing on the minority class, the PR curve helps diagnose the model’s ability to identify serious crashes, balancing precision and recall. Additional metrics, such as recall, precision, and the confusion matrix, will be used for further evaluation. However, PR AUC will guide model optimization and selection.\n",
    "\n",
    "By optimizing PR AUC, this project aims to help local government and planning agencies, such as CDOT and CMAP, identify key contributors to serious crashes and improve data-driven decision-making for traffic safety."
   ]
  },
  {
   "cell_type": "markdown",
   "id": "e169adf1",
   "metadata": {},
   "source": [
    "## 2. <a name =\"Data-Understanding\"></a> Data Understanding"
   ]
  },
  {
   "cell_type": "markdown",
   "id": "2d403f62",
   "metadata": {},
   "source": [
    "The data for this project came from the city of [Chicago's Data Portal](https://data.cityofchicago.org/). The datasets involved are updated regularly, with the most recent update on Dec 12, 2024, and the earliest recorded data dating back to March 2023. More on each dataset:\n",
    "1. [Traffic Crashes - Crashes](https://data.cityofchicago.org/Transportation/Traffic-Crashes-Crashes/85ca-t3if/about_data): Contains detailed information about each traffic crash that occurred within the City of Chicago.\n",
    "    * Total of **901k** observations with **48** features.\n",
    "        * Includes fields such as crash date, crash location, weather conditions, road conditions, and contributing factors like speed limits.\n",
    "    * Unique identifier for each crash is the `CRASH_RECORD_ID`.\n",
    "    * Target class: `MOST_SEVERE_INJURY`\n",
    "        * Includes 5 classes: \n",
    "             * *NO INDICATION OF INJURY*\n",
    "             * *NONINCAPACITATING INJURY*\n",
    "             * *REPORTED, NOT EVIDENT*\n",
    "             * *INCAPACITATING INJURY*\n",
    "             * *FATAL*\n",
    "<br><br>\n",
    "\n",
    "2. [Traffic Crashes - People](https://data.cityofchicago.org/Transportation/Traffic-Crashes-People/u6pd-qa9d/about_data): Provides information about individuals involved in a traffic crash, including details about their injuries \n",
    "    * Total of **1.98M** observations with **29** features.\n",
    "        * Each record corresponds to an occupant in a vehicle listed in the Crash dataset, and it includes data such as the type of injury, role (driver, passenger, pedestrian, etc.), and whether the individual sustained any injuries.\n",
    "    * Links to `Crash` dataset using the `CRASH_RECORD_ID` and `Vehicles` using `VEHICLE_ID`. \n",
    "    * Unique identifier for each person: `PERSON_ID` \n",
    "<br><br>\n",
    "\n",
    "3. [Traffic Crashes - Vehicles](https://data.cityofchicago.org/Transportation/Traffic-Crashes-Vehicles/68nd-jvt3/about_data): Contains information about the vehicle(s) involved in traffic crashes. \n",
    "   \n",
    "    * Total of **1.84M** observations with **71** features.\n",
    "        * Each “unit” involved in a crash (e.g., motor vehicles, bicycles, pedestrians) is assigned a record. \n",
    "        * Information about the vehicle type, damage, and trajectory, as well as the relationship with the individuals involved (drivers, passengers, pedestrians).\n",
    "        \n",
    "    * Links to the `Crash` and `People` datasets using the `CRASH_RECORD_ID`. \n",
    "    \n",
    "    \n"
   ]
  },
  {
   "cell_type": "markdown",
   "id": "881dfba0",
   "metadata": {},
   "source": [
    "### 2.1 Reproducibility"
   ]
  },
  {
   "cell_type": "markdown",
   "id": "8aa0f284",
   "metadata": {},
   "source": [
    "#### 2.1.1 Importing Necessary Libraries"
   ]
  },
  {
   "cell_type": "code",
   "execution_count": 1,
   "id": "a5fda5ad",
   "metadata": {},
   "outputs": [],
   "source": [
    "# for getting data\n",
    "import os\n",
    "import zipfile\n",
    "import os\n",
    "import zipfile\n",
    "import json\n",
    "from pathlib import Path\n",
    "\n",
    "# for data analysis\n",
    "import pandas as pd\n",
    "import numpy as np\n",
    "import matplotlib.pyplot as plt\n",
    "import seaborn as sns\n",
    "import math\n",
    "from matplotlib.ticker import FuncFormatter\n",
    "%matplotlib inline\n",
    "\n",
    "# for preprocessing\n",
    "from sklearn.compose import ColumnTransformer\n",
    "from sklearn.impute import SimpleImputer\n",
    "from sklearn.preprocessing import OneHotEncoder, StandardScaler\n",
    "\n",
    "# for modeling\n",
    "from sklearn.model_selection import train_test_split\n",
    "from sklearn.linear_model import LogisticRegression\n",
    "from sklearn.tree import DecisionTreeClassifier\n",
    "from sklearn.pipeline import Pipeline\n",
    "from imblearn.pipeline import Pipeline as ImbPipeline  # Use this for imbalanced learning pipelines\n",
    "from sklearn.model_selection import GridSearchCV\n",
    "\n",
    "# for evaluation\n",
    "from sklearn.metrics import precision_recall_curve, auc\n",
    "from sklearn.metrics import average_precision_score\n",
    "from sklearn.metrics import confusion_matrix\n",
    "from sklearn.tree import plot_tree\n",
    "\n",
    "# for class imbalance\n",
    "from imblearn.over_sampling import SMOTE"
   ]
  },
  {
   "cell_type": "markdown",
   "id": "3317a23c",
   "metadata": {},
   "source": [
    "#### 2.1.2 Environment Setup and data loading"
   ]
  },
  {
   "cell_type": "markdown",
   "id": "76029dde",
   "metadata": {},
   "source": [
    "For trying to be able to get this code to run in google colab for reproducibility \n",
    "\n",
    "Please be aware that running this code will require you to enter your kaggle username and API key. The code will not proceed if you do not provide accurate information. \n",
    "\n",
    "To create a kaggle account, [click here](https://www.kaggle.com/account/login). \n",
    "\n",
    "For more details on obtaining your kaggle API key, [click here](https://github.com/Kaggle/kaggle-api/blob/main/docs/README.md)."
   ]
  },
  {
   "cell_type": "code",
   "execution_count": 2,
   "id": "86cb8586",
   "metadata": {},
   "outputs": [
    {
     "name": "stdout",
     "output_type": "stream",
     "text": [
      "Enter Kaggle username: ckucewicz\n",
      "Enter Kaggle key: 177a019058583e7df97a8ade860bbe3e\n",
      "Kaggle credentials are set up successfully.\n"
     ]
    }
   ],
   "source": [
    "# Getting Kaggle username and key from user input or environment variables\n",
    "os.environ[\"KAGGLE_USERNAME\"] = input(\"Enter Kaggle username: \")\n",
    "os.environ[\"KAGGLE_KEY\"] = input(\"Enter Kaggle key: \")\n",
    "\n",
    "# Detect the environment (Google Colab or local machine)\n",
    "if 'google.colab' in str(get_ipython()):\n",
    "    # For Google Colab, use the /root/.kaggle directory\n",
    "    kaggle_path = Path('/root/.kaggle')\n",
    "else:\n",
    "    # For local machine, use the home directory\n",
    "    kaggle_path = Path.home() / '.kaggle'\n",
    "\n",
    "# Create the .kaggle directory if it doesn't exist\n",
    "os.makedirs(kaggle_path, exist_ok=True)\n",
    "\n",
    "# Create the kaggle.json file with the correct API credentials\n",
    "kaggle_json = {\n",
    "    \"username\": os.getenv(\"KAGGLE_USERNAME\"),\n",
    "    \"key\": os.getenv(\"KAGGLE_KEY\")\n",
    "}\n",
    "\n",
    "# Write the kaggle.json file in the correct location\n",
    "with open(kaggle_path / 'kaggle.json', 'w') as f:\n",
    "    json.dump(kaggle_json, f)\n",
    "\n",
    "# Set file permissions to secure the API key (optional but recommended)\n",
    "os.chmod(kaggle_path / 'kaggle.json', 0o600)\n",
    "\n",
    "# Check if the credentials are set correctly (for debugging purposes)\n",
    "print(\"Kaggle credentials are set up successfully.\")"
   ]
  },
  {
   "cell_type": "code",
   "execution_count": 3,
   "id": "bef76317",
   "metadata": {},
   "outputs": [
    {
     "name": "stdout",
     "output_type": "stream",
     "text": [
      "Downloading dataset in Jupyter Notebook...\n"
     ]
    },
    {
     "name": "stderr",
     "output_type": "stream",
     "text": [
      "100%|██████████| 394M/394M [00:10<00:00, 40.4MB/s] \n"
     ]
    },
    {
     "name": "stdout",
     "output_type": "stream",
     "text": [
      "Dataset URL: https://www.kaggle.com/datasets/ckucewicz/Chicago-Traffic-Data\n",
      "License(s): apache-2.0\n",
      "Downloading Chicago-Traffic-Data.zip to data\n",
      "\n",
      "Dataset extracted to: data/Chicago-Traffic-Data\n",
      "Loading people from data/Chicago-Traffic-Data/chicago_traffic_data/people.csv...\n"
     ]
    },
    {
     "name": "stderr",
     "output_type": "stream",
     "text": [
      "/Users/chriskucewicz/anaconda3/envs/learn-env/lib/python3.8/site-packages/IPython/core/interactiveshell.py:3508: DtypeWarning: Columns (19,23,24,25,28) have mixed types.Specify dtype option on import or set low_memory=False.\n",
      "  exec(code_obj, self.user_global_ns, self.user_ns)\n"
     ]
    },
    {
     "name": "stdout",
     "output_type": "stream",
     "text": [
      "people DataFrame loaded successfully.\n",
      "Loading traffic_crashes from data/Chicago-Traffic-Data/chicago_traffic_data/traffic_crashes.csv...\n"
     ]
    },
    {
     "name": "stderr",
     "output_type": "stream",
     "text": [
      "/Users/chriskucewicz/anaconda3/envs/learn-env/lib/python3.8/site-packages/IPython/core/interactiveshell.py:3508: DtypeWarning: Columns (31,32) have mixed types.Specify dtype option on import or set low_memory=False.\n",
      "  exec(code_obj, self.user_global_ns, self.user_ns)\n"
     ]
    },
    {
     "name": "stdout",
     "output_type": "stream",
     "text": [
      "traffic_crashes DataFrame loaded successfully.\n",
      "Loading vehicles from data/Chicago-Traffic-Data/chicago_traffic_data/vehicles.csv...\n"
     ]
    },
    {
     "name": "stderr",
     "output_type": "stream",
     "text": [
      "/Users/chriskucewicz/anaconda3/envs/learn-env/lib/python3.8/site-packages/IPython/core/interactiveshell.py:3508: DtypeWarning: Columns (20,39,40,41,43,47,48,49,52,54,57,58,60,70) have mixed types.Specify dtype option on import or set low_memory=False.\n",
      "  exec(code_obj, self.user_global_ns, self.user_ns)\n"
     ]
    },
    {
     "name": "stdout",
     "output_type": "stream",
     "text": [
      "vehicles DataFrame loaded successfully.\n"
     ]
    }
   ],
   "source": [
    "# Step 2: Download dataset using Kaggle API\n",
    "\n",
    "# Set dataset identifier and download path\n",
    "dataset_identifier = 'ckucewicz/Chicago-Traffic-Data'\n",
    "download_path = Path('./data')  # Local or Colab download folder\n",
    "\n",
    "# Ensure the download path exists\n",
    "os.makedirs(download_path, exist_ok=True)\n",
    "\n",
    "# Detect the environment and run the appropriate download command\n",
    "if 'google.colab' in str(get_ipython()):\n",
    "    print(\"Downloading dataset in Google Colab...\")\n",
    "    !kaggle datasets download -d {dataset_identifier} --path {download_path}\n",
    "else:\n",
    "    print(\"Downloading dataset in Jupyter Notebook...\")\n",
    "    os.system(f\"kaggle datasets download -d {dataset_identifier} --path {download_path}\")\n",
    "\n",
    "# Step 3: Unzip the dataset\n",
    "zip_filename = download_path / 'Chicago-Traffic-Data.zip'  # Adjust the ZIP filename\n",
    "unzip_path = download_path / 'Chicago-Traffic-Data'\n",
    "\n",
    "# Ensure the extraction path exists\n",
    "os.makedirs(unzip_path, exist_ok=True)\n",
    "\n",
    "# Unzip the dataset\n",
    "try:\n",
    "    with zipfile.ZipFile(zip_filename, 'r') as zip_ref:\n",
    "        zip_ref.extractall(unzip_path)\n",
    "    print(f\"Dataset extracted to: {unzip_path}\")\n",
    "except FileNotFoundError:\n",
    "    print(f\"Error: {zip_filename} not found. Ensure the dataset was downloaded successfully.\")\n",
    "\n",
    "# Step 4: Load CSV files into pandas DataFrames\n",
    "csv_files = {\n",
    "    'people': 'chicago_traffic_data/people.csv',\n",
    "    'traffic_crashes': 'chicago_traffic_data/traffic_crashes.csv',\n",
    "    'vehicles': 'chicago_traffic_data/vehicles.csv',\n",
    "}\n",
    "\n",
    "# Initialize a dictionary to store DataFrames\n",
    "dataframes = {}\n",
    "\n",
    "for key, relative_path in csv_files.items():\n",
    "    csv_path = unzip_path / relative_path  # Create the full path\n",
    "    print(f\"Loading {key} from {csv_path}...\")\n",
    "    \n",
    "    try:\n",
    "        # Load CSV into pandas DataFrame\n",
    "        dataframes[key] = pd.read_csv(csv_path, low_memory=True)\n",
    "        print(f\"{key} DataFrame loaded successfully.\")\n",
    "    except FileNotFoundError:\n",
    "        print(f\"Error: {relative_path} not found in the extracted files.\")"
   ]
  },
  {
   "cell_type": "code",
   "execution_count": 4,
   "id": "b06d6563",
   "metadata": {},
   "outputs": [],
   "source": [
    "# stores each dataset in its own variable\n",
    "people_df = dataframes['people']\n",
    "traffic_crashes_df = dataframes['traffic_crashes']\n",
    "vehicles_df = dataframes['vehicles']"
   ]
  },
  {
   "cell_type": "markdown",
   "id": "1d11a52b",
   "metadata": {},
   "source": [
    "### 2.2 Data Understanding Functions"
   ]
  },
  {
   "cell_type": "code",
   "execution_count": 5,
   "id": "e6bcac93",
   "metadata": {},
   "outputs": [],
   "source": [
    "def plot_histograms(df):\n",
    "    \n",
    "    \"\"\"\n",
    "    Plots histograms for numeric features in the dataset.\n",
    "\n",
    "    Parameters:\n",
    "    df (pandas.DataFrame): The dataset to plot histograms for.\n",
    "    \"\"\"\n",
    "    \n",
    "    numeric_cols = df.select_dtypes(include='number').columns\n",
    "    print(\"Plotting histograms for numeric features...\\n\")\n",
    "    df[numeric_cols].hist(bins=20, figsize=(12, 10))\n",
    "    plt.tight_layout()\n",
    "    plt.show()"
   ]
  },
  {
   "cell_type": "code",
   "execution_count": 6,
   "id": "37de2990",
   "metadata": {},
   "outputs": [],
   "source": [
    "def analyze_dates(df, date_col):\n",
    "    \n",
    "    \"\"\"\n",
    "    Analyzes the earliest and latest dates in a given date column.\n",
    "\n",
    "    Parameters:\n",
    "    df (pandas.DataFrame): The dataset containing the date column.\n",
    "    date_col (str): The name of the date column to analyze.\n",
    "\n",
    "    Returns:\n",
    "    tuple: The earliest and latest dates.\n",
    "    \"\"\"\n",
    "    \n",
    "    print(f\"Analyzing date column '{date_col}'...\\n\")\n",
    "    df[date_col] = pd.to_datetime(df[date_col], errors='coerce')\n",
    "    earliest_date = df[date_col].min()\n",
    "    latest_date = df[date_col].max()\n",
    "    print(f\"Earliest {date_col}: {earliest_date}\")\n",
    "    print(f\"Latest {date_col}: {latest_date}\\n\")\n",
    "\n",
    "    return earliest_date, latest_date"
   ]
  },
  {
   "cell_type": "markdown",
   "id": "fad70735",
   "metadata": {},
   "source": [
    "### 2.2.1 Traffic Crashes Dataset"
   ]
  },
  {
   "cell_type": "code",
   "execution_count": 7,
   "id": "a37b6ac6",
   "metadata": {},
   "outputs": [
    {
     "data": {
      "text/html": [
       "<div>\n",
       "<style scoped>\n",
       "    .dataframe tbody tr th:only-of-type {\n",
       "        vertical-align: middle;\n",
       "    }\n",
       "\n",
       "    .dataframe tbody tr th {\n",
       "        vertical-align: top;\n",
       "    }\n",
       "\n",
       "    .dataframe thead th {\n",
       "        text-align: right;\n",
       "    }\n",
       "</style>\n",
       "<table border=\"1\" class=\"dataframe\">\n",
       "  <thead>\n",
       "    <tr style=\"text-align: right;\">\n",
       "      <th></th>\n",
       "      <th>CRASH_RECORD_ID</th>\n",
       "      <th>CRASH_DATE_EST_I</th>\n",
       "      <th>CRASH_DATE</th>\n",
       "      <th>POSTED_SPEED_LIMIT</th>\n",
       "      <th>TRAFFIC_CONTROL_DEVICE</th>\n",
       "      <th>DEVICE_CONDITION</th>\n",
       "      <th>WEATHER_CONDITION</th>\n",
       "      <th>LIGHTING_CONDITION</th>\n",
       "      <th>FIRST_CRASH_TYPE</th>\n",
       "      <th>TRAFFICWAY_TYPE</th>\n",
       "      <th>...</th>\n",
       "      <th>INJURIES_NON_INCAPACITATING</th>\n",
       "      <th>INJURIES_REPORTED_NOT_EVIDENT</th>\n",
       "      <th>INJURIES_NO_INDICATION</th>\n",
       "      <th>INJURIES_UNKNOWN</th>\n",
       "      <th>CRASH_HOUR</th>\n",
       "      <th>CRASH_DAY_OF_WEEK</th>\n",
       "      <th>CRASH_MONTH</th>\n",
       "      <th>LATITUDE</th>\n",
       "      <th>LONGITUDE</th>\n",
       "      <th>LOCATION</th>\n",
       "    </tr>\n",
       "  </thead>\n",
       "  <tbody>\n",
       "    <tr>\n",
       "      <th>0</th>\n",
       "      <td>6c1659069e9c6285a650e70d6f9b574ed5f64c12888479...</td>\n",
       "      <td>NaN</td>\n",
       "      <td>08/18/2023 12:50:00 PM</td>\n",
       "      <td>15</td>\n",
       "      <td>OTHER</td>\n",
       "      <td>FUNCTIONING PROPERLY</td>\n",
       "      <td>CLEAR</td>\n",
       "      <td>DAYLIGHT</td>\n",
       "      <td>REAR END</td>\n",
       "      <td>OTHER</td>\n",
       "      <td>...</td>\n",
       "      <td>1.0</td>\n",
       "      <td>0.0</td>\n",
       "      <td>1.0</td>\n",
       "      <td>0.0</td>\n",
       "      <td>12</td>\n",
       "      <td>6</td>\n",
       "      <td>8</td>\n",
       "      <td>NaN</td>\n",
       "      <td>NaN</td>\n",
       "      <td>NaN</td>\n",
       "    </tr>\n",
       "    <tr>\n",
       "      <th>1</th>\n",
       "      <td>5f54a59fcb087b12ae5b1acff96a3caf4f2d37e79f8db4...</td>\n",
       "      <td>NaN</td>\n",
       "      <td>07/29/2023 02:45:00 PM</td>\n",
       "      <td>30</td>\n",
       "      <td>TRAFFIC SIGNAL</td>\n",
       "      <td>FUNCTIONING PROPERLY</td>\n",
       "      <td>CLEAR</td>\n",
       "      <td>DAYLIGHT</td>\n",
       "      <td>PARKED MOTOR VEHICLE</td>\n",
       "      <td>DIVIDED - W/MEDIAN (NOT RAISED)</td>\n",
       "      <td>...</td>\n",
       "      <td>0.0</td>\n",
       "      <td>0.0</td>\n",
       "      <td>1.0</td>\n",
       "      <td>0.0</td>\n",
       "      <td>14</td>\n",
       "      <td>7</td>\n",
       "      <td>7</td>\n",
       "      <td>41.854120</td>\n",
       "      <td>-87.665902</td>\n",
       "      <td>POINT (-87.665902342962 41.854120262952)</td>\n",
       "    </tr>\n",
       "    <tr>\n",
       "      <th>2</th>\n",
       "      <td>61fcb8c1eb522a6469b460e2134df3d15f82e81fd93e9c...</td>\n",
       "      <td>NaN</td>\n",
       "      <td>08/18/2023 05:58:00 PM</td>\n",
       "      <td>30</td>\n",
       "      <td>NO CONTROLS</td>\n",
       "      <td>NO CONTROLS</td>\n",
       "      <td>CLEAR</td>\n",
       "      <td>DAYLIGHT</td>\n",
       "      <td>PEDALCYCLIST</td>\n",
       "      <td>NOT DIVIDED</td>\n",
       "      <td>...</td>\n",
       "      <td>1.0</td>\n",
       "      <td>0.0</td>\n",
       "      <td>1.0</td>\n",
       "      <td>0.0</td>\n",
       "      <td>17</td>\n",
       "      <td>6</td>\n",
       "      <td>8</td>\n",
       "      <td>41.942976</td>\n",
       "      <td>-87.761883</td>\n",
       "      <td>POINT (-87.761883496974 41.942975745006)</td>\n",
       "    </tr>\n",
       "    <tr>\n",
       "      <th>3</th>\n",
       "      <td>004cd14d0303a9163aad69a2d7f341b7da2a8572b2ab33...</td>\n",
       "      <td>NaN</td>\n",
       "      <td>11/26/2019 08:38:00 AM</td>\n",
       "      <td>25</td>\n",
       "      <td>NO CONTROLS</td>\n",
       "      <td>NO CONTROLS</td>\n",
       "      <td>CLEAR</td>\n",
       "      <td>DAYLIGHT</td>\n",
       "      <td>PEDESTRIAN</td>\n",
       "      <td>ONE-WAY</td>\n",
       "      <td>...</td>\n",
       "      <td>0.0</td>\n",
       "      <td>0.0</td>\n",
       "      <td>1.0</td>\n",
       "      <td>0.0</td>\n",
       "      <td>8</td>\n",
       "      <td>3</td>\n",
       "      <td>11</td>\n",
       "      <td>NaN</td>\n",
       "      <td>NaN</td>\n",
       "      <td>NaN</td>\n",
       "    </tr>\n",
       "    <tr>\n",
       "      <th>4</th>\n",
       "      <td>a1d5f0ea90897745365a4cbb06cc60329a120d89753fac...</td>\n",
       "      <td>NaN</td>\n",
       "      <td>08/18/2023 10:45:00 AM</td>\n",
       "      <td>20</td>\n",
       "      <td>NO CONTROLS</td>\n",
       "      <td>NO CONTROLS</td>\n",
       "      <td>CLEAR</td>\n",
       "      <td>DAYLIGHT</td>\n",
       "      <td>FIXED OBJECT</td>\n",
       "      <td>OTHER</td>\n",
       "      <td>...</td>\n",
       "      <td>0.0</td>\n",
       "      <td>0.0</td>\n",
       "      <td>1.0</td>\n",
       "      <td>0.0</td>\n",
       "      <td>10</td>\n",
       "      <td>6</td>\n",
       "      <td>8</td>\n",
       "      <td>NaN</td>\n",
       "      <td>NaN</td>\n",
       "      <td>NaN</td>\n",
       "    </tr>\n",
       "  </tbody>\n",
       "</table>\n",
       "<p>5 rows × 48 columns</p>\n",
       "</div>"
      ],
      "text/plain": [
       "                                     CRASH_RECORD_ID CRASH_DATE_EST_I  \\\n",
       "0  6c1659069e9c6285a650e70d6f9b574ed5f64c12888479...              NaN   \n",
       "1  5f54a59fcb087b12ae5b1acff96a3caf4f2d37e79f8db4...              NaN   \n",
       "2  61fcb8c1eb522a6469b460e2134df3d15f82e81fd93e9c...              NaN   \n",
       "3  004cd14d0303a9163aad69a2d7f341b7da2a8572b2ab33...              NaN   \n",
       "4  a1d5f0ea90897745365a4cbb06cc60329a120d89753fac...              NaN   \n",
       "\n",
       "               CRASH_DATE  POSTED_SPEED_LIMIT TRAFFIC_CONTROL_DEVICE  \\\n",
       "0  08/18/2023 12:50:00 PM                  15                  OTHER   \n",
       "1  07/29/2023 02:45:00 PM                  30         TRAFFIC SIGNAL   \n",
       "2  08/18/2023 05:58:00 PM                  30            NO CONTROLS   \n",
       "3  11/26/2019 08:38:00 AM                  25            NO CONTROLS   \n",
       "4  08/18/2023 10:45:00 AM                  20            NO CONTROLS   \n",
       "\n",
       "       DEVICE_CONDITION WEATHER_CONDITION LIGHTING_CONDITION  \\\n",
       "0  FUNCTIONING PROPERLY             CLEAR           DAYLIGHT   \n",
       "1  FUNCTIONING PROPERLY             CLEAR           DAYLIGHT   \n",
       "2           NO CONTROLS             CLEAR           DAYLIGHT   \n",
       "3           NO CONTROLS             CLEAR           DAYLIGHT   \n",
       "4           NO CONTROLS             CLEAR           DAYLIGHT   \n",
       "\n",
       "       FIRST_CRASH_TYPE                  TRAFFICWAY_TYPE  ...  \\\n",
       "0              REAR END                            OTHER  ...   \n",
       "1  PARKED MOTOR VEHICLE  DIVIDED - W/MEDIAN (NOT RAISED)  ...   \n",
       "2          PEDALCYCLIST                      NOT DIVIDED  ...   \n",
       "3            PEDESTRIAN                          ONE-WAY  ...   \n",
       "4          FIXED OBJECT                            OTHER  ...   \n",
       "\n",
       "   INJURIES_NON_INCAPACITATING INJURIES_REPORTED_NOT_EVIDENT  \\\n",
       "0                          1.0                           0.0   \n",
       "1                          0.0                           0.0   \n",
       "2                          1.0                           0.0   \n",
       "3                          0.0                           0.0   \n",
       "4                          0.0                           0.0   \n",
       "\n",
       "  INJURIES_NO_INDICATION INJURIES_UNKNOWN CRASH_HOUR CRASH_DAY_OF_WEEK  \\\n",
       "0                    1.0              0.0         12                 6   \n",
       "1                    1.0              0.0         14                 7   \n",
       "2                    1.0              0.0         17                 6   \n",
       "3                    1.0              0.0          8                 3   \n",
       "4                    1.0              0.0         10                 6   \n",
       "\n",
       "  CRASH_MONTH   LATITUDE  LONGITUDE                                  LOCATION  \n",
       "0           8        NaN        NaN                                       NaN  \n",
       "1           7  41.854120 -87.665902  POINT (-87.665902342962 41.854120262952)  \n",
       "2           8  41.942976 -87.761883  POINT (-87.761883496974 41.942975745006)  \n",
       "3          11        NaN        NaN                                       NaN  \n",
       "4           8        NaN        NaN                                       NaN  \n",
       "\n",
       "[5 rows x 48 columns]"
      ]
     },
     "execution_count": 7,
     "metadata": {},
     "output_type": "execute_result"
    }
   ],
   "source": [
    "# Data understanding for Crashes dataset\n",
    "traffic_crashes_df.head()"
   ]
  },
  {
   "cell_type": "code",
   "execution_count": 8,
   "id": "2edb7793",
   "metadata": {},
   "outputs": [
    {
     "name": "stdout",
     "output_type": "stream",
     "text": [
      "<class 'pandas.core.frame.DataFrame'>\n",
      "RangeIndex: 901446 entries, 0 to 901445\n",
      "Data columns (total 48 columns):\n",
      " #   Column                         Non-Null Count   Dtype  \n",
      "---  ------                         --------------   -----  \n",
      " 0   CRASH_RECORD_ID                901446 non-null  object \n",
      " 1   CRASH_DATE_EST_I               66531 non-null   object \n",
      " 2   CRASH_DATE                     901446 non-null  object \n",
      " 3   POSTED_SPEED_LIMIT             901446 non-null  int64  \n",
      " 4   TRAFFIC_CONTROL_DEVICE         901446 non-null  object \n",
      " 5   DEVICE_CONDITION               901446 non-null  object \n",
      " 6   WEATHER_CONDITION              901446 non-null  object \n",
      " 7   LIGHTING_CONDITION             901446 non-null  object \n",
      " 8   FIRST_CRASH_TYPE               901446 non-null  object \n",
      " 9   TRAFFICWAY_TYPE                901446 non-null  object \n",
      " 10  LANE_CNT                       199022 non-null  float64\n",
      " 11  ALIGNMENT                      901446 non-null  object \n",
      " 12  ROADWAY_SURFACE_COND           901446 non-null  object \n",
      " 13  ROAD_DEFECT                    901446 non-null  object \n",
      " 14  REPORT_TYPE                    873380 non-null  object \n",
      " 15  CRASH_TYPE                     901446 non-null  object \n",
      " 16  INTERSECTION_RELATED_I         207054 non-null  object \n",
      " 17  NOT_RIGHT_OF_WAY_I             41046 non-null   object \n",
      " 18  HIT_AND_RUN_I                  282692 non-null  object \n",
      " 19  DAMAGE                         901446 non-null  object \n",
      " 20  DATE_POLICE_NOTIFIED           901446 non-null  object \n",
      " 21  PRIM_CONTRIBUTORY_CAUSE        901446 non-null  object \n",
      " 22  SEC_CONTRIBUTORY_CAUSE         901446 non-null  object \n",
      " 23  STREET_NO                      901446 non-null  int64  \n",
      " 24  STREET_DIRECTION               901442 non-null  object \n",
      " 25  STREET_NAME                    901445 non-null  object \n",
      " 26  BEAT_OF_OCCURRENCE             901441 non-null  float64\n",
      " 27  PHOTOS_TAKEN_I                 12323 non-null   object \n",
      " 28  STATEMENTS_TAKEN_I             20743 non-null   object \n",
      " 29  DOORING_I                      2856 non-null    object \n",
      " 30  WORK_ZONE_I                    5035 non-null    object \n",
      " 31  WORK_ZONE_TYPE                 3886 non-null    object \n",
      " 32  WORKERS_PRESENT_I              1297 non-null    object \n",
      " 33  NUM_UNITS                      901446 non-null  int64  \n",
      " 34  MOST_SEVERE_INJURY             899453 non-null  object \n",
      " 35  INJURIES_TOTAL                 899467 non-null  float64\n",
      " 36  INJURIES_FATAL                 899467 non-null  float64\n",
      " 37  INJURIES_INCAPACITATING        899467 non-null  float64\n",
      " 38  INJURIES_NON_INCAPACITATING    899467 non-null  float64\n",
      " 39  INJURIES_REPORTED_NOT_EVIDENT  899467 non-null  float64\n",
      " 40  INJURIES_NO_INDICATION         899467 non-null  float64\n",
      " 41  INJURIES_UNKNOWN               899467 non-null  float64\n",
      " 42  CRASH_HOUR                     901446 non-null  int64  \n",
      " 43  CRASH_DAY_OF_WEEK              901446 non-null  int64  \n",
      " 44  CRASH_MONTH                    901446 non-null  int64  \n",
      " 45  LATITUDE                       894920 non-null  float64\n",
      " 46  LONGITUDE                      894920 non-null  float64\n",
      " 47  LOCATION                       894920 non-null  object \n",
      "dtypes: float64(11), int64(6), object(31)\n",
      "memory usage: 330.1+ MB\n"
     ]
    }
   ],
   "source": [
    "traffic_crashes_df.info()"
   ]
  },
  {
   "cell_type": "code",
   "execution_count": 9,
   "id": "2905b197",
   "metadata": {},
   "outputs": [
    {
     "data": {
      "text/plain": [
       "CRASH_RECORD_ID                   0.000000\n",
       "CRASH_DATE_EST_I                 92.619525\n",
       "CRASH_DATE                        0.000000\n",
       "POSTED_SPEED_LIMIT                0.000000\n",
       "TRAFFIC_CONTROL_DEVICE            0.000000\n",
       "DEVICE_CONDITION                  0.000000\n",
       "WEATHER_CONDITION                 0.000000\n",
       "LIGHTING_CONDITION                0.000000\n",
       "FIRST_CRASH_TYPE                  0.000000\n",
       "TRAFFICWAY_TYPE                   0.000000\n",
       "LANE_CNT                         77.921917\n",
       "ALIGNMENT                         0.000000\n",
       "ROADWAY_SURFACE_COND              0.000000\n",
       "ROAD_DEFECT                       0.000000\n",
       "REPORT_TYPE                       3.113442\n",
       "CRASH_TYPE                        0.000000\n",
       "INTERSECTION_RELATED_I           77.030904\n",
       "NOT_RIGHT_OF_WAY_I               95.446649\n",
       "HIT_AND_RUN_I                    68.640163\n",
       "DAMAGE                            0.000000\n",
       "DATE_POLICE_NOTIFIED              0.000000\n",
       "PRIM_CONTRIBUTORY_CAUSE           0.000000\n",
       "SEC_CONTRIBUTORY_CAUSE            0.000000\n",
       "STREET_NO                         0.000000\n",
       "STREET_DIRECTION                  0.000444\n",
       "STREET_NAME                       0.000111\n",
       "BEAT_OF_OCCURRENCE                0.000555\n",
       "PHOTOS_TAKEN_I                   98.632974\n",
       "STATEMENTS_TAKEN_I               97.698919\n",
       "DOORING_I                        99.683176\n",
       "WORK_ZONE_I                      99.441453\n",
       "WORK_ZONE_TYPE                   99.568915\n",
       "WORKERS_PRESENT_I                99.856120\n",
       "NUM_UNITS                         0.000000\n",
       "MOST_SEVERE_INJURY                0.221089\n",
       "INJURIES_TOTAL                    0.219536\n",
       "INJURIES_FATAL                    0.219536\n",
       "INJURIES_INCAPACITATING           0.219536\n",
       "INJURIES_NON_INCAPACITATING       0.219536\n",
       "INJURIES_REPORTED_NOT_EVIDENT     0.219536\n",
       "INJURIES_NO_INDICATION            0.219536\n",
       "INJURIES_UNKNOWN                  0.219536\n",
       "CRASH_HOUR                        0.000000\n",
       "CRASH_DAY_OF_WEEK                 0.000000\n",
       "CRASH_MONTH                       0.000000\n",
       "LATITUDE                          0.723948\n",
       "LONGITUDE                         0.723948\n",
       "LOCATION                          0.723948\n",
       "dtype: float64"
      ]
     },
     "execution_count": 9,
     "metadata": {},
     "output_type": "execute_result"
    }
   ],
   "source": [
    "(traffic_crashes_df.isna().sum()/len(traffic_crashes_df))* 100"
   ]
  },
  {
   "cell_type": "code",
   "execution_count": 10,
   "id": "ebad4e17",
   "metadata": {},
   "outputs": [
    {
     "name": "stdout",
     "output_type": "stream",
     "text": [
      "Plotting histograms for numeric features...\n",
      "\n"
     ]
    },
    {
     "data": {
      "image/png": "[encoded data removed]",
      "text/plain": [
       "<Figure size 1200x1000 with 20 Axes>"
      ]
     },
     "metadata": {},
     "output_type": "display_data"
    }
   ],
   "source": [
    "plot_histograms(traffic_crashes_df)"
   ]
  },
  {
   "cell_type": "code",
   "execution_count": 11,
   "id": "f492987f",
   "metadata": {},
   "outputs": [
    {
     "name": "stdout",
     "output_type": "stream",
     "text": [
      "Analyzing date column 'CRASH_DATE'...\n",
      "\n",
      "Earliest CRASH_DATE: 2013-03-03 16:48:00\n",
      "Latest CRASH_DATE: 2024-12-14 00:08:00\n",
      "\n"
     ]
    },
    {
     "data": {
      "text/plain": [
       "(Timestamp('2013-03-03 16:48:00'), Timestamp('2024-12-14 00:08:00'))"
      ]
     },
     "execution_count": 11,
     "metadata": {},
     "output_type": "execute_result"
    }
   ],
   "source": [
    "analyze_dates(traffic_crashes_df, 'CRASH_DATE')"
   ]
  },
  {
   "cell_type": "markdown",
   "id": "1e185cd6",
   "metadata": {},
   "source": [
    "### 2.2.2 People Dataset"
   ]
  },
  {
   "cell_type": "code",
   "execution_count": 12,
   "id": "4791e4a7",
   "metadata": {},
   "outputs": [
    {
     "data": {
      "text/html": [
       "<div>\n",
       "<style scoped>\n",
       "    .dataframe tbody tr th:only-of-type {\n",
       "        vertical-align: middle;\n",
       "    }\n",
       "\n",
       "    .dataframe tbody tr th {\n",
       "        vertical-align: top;\n",
       "    }\n",
       "\n",
       "    .dataframe thead th {\n",
       "        text-align: right;\n",
       "    }\n",
       "</style>\n",
       "<table border=\"1\" class=\"dataframe\">\n",
       "  <thead>\n",
       "    <tr style=\"text-align: right;\">\n",
       "      <th></th>\n",
       "      <th>PERSON_ID</th>\n",
       "      <th>PERSON_TYPE</th>\n",
       "      <th>CRASH_RECORD_ID</th>\n",
       "      <th>VEHICLE_ID</th>\n",
       "      <th>CRASH_DATE</th>\n",
       "      <th>SEAT_NO</th>\n",
       "      <th>CITY</th>\n",
       "      <th>STATE</th>\n",
       "      <th>ZIPCODE</th>\n",
       "      <th>SEX</th>\n",
       "      <th>...</th>\n",
       "      <th>EMS_RUN_NO</th>\n",
       "      <th>DRIVER_ACTION</th>\n",
       "      <th>DRIVER_VISION</th>\n",
       "      <th>PHYSICAL_CONDITION</th>\n",
       "      <th>PEDPEDAL_ACTION</th>\n",
       "      <th>PEDPEDAL_VISIBILITY</th>\n",
       "      <th>PEDPEDAL_LOCATION</th>\n",
       "      <th>BAC_RESULT</th>\n",
       "      <th>BAC_RESULT VALUE</th>\n",
       "      <th>CELL_PHONE_USE</th>\n",
       "    </tr>\n",
       "  </thead>\n",
       "  <tbody>\n",
       "    <tr>\n",
       "      <th>0</th>\n",
       "      <td>O749947</td>\n",
       "      <td>DRIVER</td>\n",
       "      <td>81dc0de2ed92aa62baccab641fa377be7feb1cc47e6554...</td>\n",
       "      <td>834816.0</td>\n",
       "      <td>09/28/2019 03:30:00 AM</td>\n",
       "      <td>NaN</td>\n",
       "      <td>CHICAGO</td>\n",
       "      <td>IL</td>\n",
       "      <td>60651</td>\n",
       "      <td>M</td>\n",
       "      <td>...</td>\n",
       "      <td>NaN</td>\n",
       "      <td>UNKNOWN</td>\n",
       "      <td>UNKNOWN</td>\n",
       "      <td>UNKNOWN</td>\n",
       "      <td>NaN</td>\n",
       "      <td>NaN</td>\n",
       "      <td>NaN</td>\n",
       "      <td>TEST NOT OFFERED</td>\n",
       "      <td>NaN</td>\n",
       "      <td>NaN</td>\n",
       "    </tr>\n",
       "    <tr>\n",
       "      <th>1</th>\n",
       "      <td>O871921</td>\n",
       "      <td>DRIVER</td>\n",
       "      <td>af84fb5c8d996fcd3aefd36593c3a02e6e7509eeb27568...</td>\n",
       "      <td>827212.0</td>\n",
       "      <td>04/13/2020 10:50:00 PM</td>\n",
       "      <td>NaN</td>\n",
       "      <td>CHICAGO</td>\n",
       "      <td>IL</td>\n",
       "      <td>60620</td>\n",
       "      <td>M</td>\n",
       "      <td>...</td>\n",
       "      <td>NaN</td>\n",
       "      <td>NONE</td>\n",
       "      <td>NOT OBSCURED</td>\n",
       "      <td>NORMAL</td>\n",
       "      <td>NaN</td>\n",
       "      <td>NaN</td>\n",
       "      <td>NaN</td>\n",
       "      <td>TEST NOT OFFERED</td>\n",
       "      <td>NaN</td>\n",
       "      <td>NaN</td>\n",
       "    </tr>\n",
       "    <tr>\n",
       "      <th>2</th>\n",
       "      <td>O10018</td>\n",
       "      <td>DRIVER</td>\n",
       "      <td>71162af7bf22799b776547132ebf134b5b438dcf3dac6b...</td>\n",
       "      <td>9579.0</td>\n",
       "      <td>11/01/2015 05:00:00 AM</td>\n",
       "      <td>NaN</td>\n",
       "      <td>NaN</td>\n",
       "      <td>NaN</td>\n",
       "      <td>NaN</td>\n",
       "      <td>X</td>\n",
       "      <td>...</td>\n",
       "      <td>NaN</td>\n",
       "      <td>IMPROPER BACKING</td>\n",
       "      <td>UNKNOWN</td>\n",
       "      <td>UNKNOWN</td>\n",
       "      <td>NaN</td>\n",
       "      <td>NaN</td>\n",
       "      <td>NaN</td>\n",
       "      <td>TEST NOT OFFERED</td>\n",
       "      <td>NaN</td>\n",
       "      <td>NaN</td>\n",
       "    </tr>\n",
       "    <tr>\n",
       "      <th>3</th>\n",
       "      <td>O10038</td>\n",
       "      <td>DRIVER</td>\n",
       "      <td>c21c476e2ccc41af550b5d858d22aaac4ffc88745a1700...</td>\n",
       "      <td>9598.0</td>\n",
       "      <td>11/01/2015 08:00:00 AM</td>\n",
       "      <td>NaN</td>\n",
       "      <td>NaN</td>\n",
       "      <td>NaN</td>\n",
       "      <td>NaN</td>\n",
       "      <td>X</td>\n",
       "      <td>...</td>\n",
       "      <td>NaN</td>\n",
       "      <td>UNKNOWN</td>\n",
       "      <td>UNKNOWN</td>\n",
       "      <td>UNKNOWN</td>\n",
       "      <td>NaN</td>\n",
       "      <td>NaN</td>\n",
       "      <td>NaN</td>\n",
       "      <td>TEST NOT OFFERED</td>\n",
       "      <td>NaN</td>\n",
       "      <td>NaN</td>\n",
       "    </tr>\n",
       "    <tr>\n",
       "      <th>4</th>\n",
       "      <td>O10039</td>\n",
       "      <td>DRIVER</td>\n",
       "      <td>eb390a4c8e114c69488f5fb8a097fe629f5a92fd528cf4...</td>\n",
       "      <td>9600.0</td>\n",
       "      <td>11/01/2015 10:15:00 AM</td>\n",
       "      <td>NaN</td>\n",
       "      <td>NaN</td>\n",
       "      <td>NaN</td>\n",
       "      <td>NaN</td>\n",
       "      <td>X</td>\n",
       "      <td>...</td>\n",
       "      <td>NaN</td>\n",
       "      <td>UNKNOWN</td>\n",
       "      <td>UNKNOWN</td>\n",
       "      <td>UNKNOWN</td>\n",
       "      <td>NaN</td>\n",
       "      <td>NaN</td>\n",
       "      <td>NaN</td>\n",
       "      <td>TEST NOT OFFERED</td>\n",
       "      <td>NaN</td>\n",
       "      <td>NaN</td>\n",
       "    </tr>\n",
       "  </tbody>\n",
       "</table>\n",
       "<p>5 rows × 29 columns</p>\n",
       "</div>"
      ],
      "text/plain": [
       "  PERSON_ID PERSON_TYPE                                    CRASH_RECORD_ID  \\\n",
       "0   O749947      DRIVER  81dc0de2ed92aa62baccab641fa377be7feb1cc47e6554...   \n",
       "1   O871921      DRIVER  af84fb5c8d996fcd3aefd36593c3a02e6e7509eeb27568...   \n",
       "2    O10018      DRIVER  71162af7bf22799b776547132ebf134b5b438dcf3dac6b...   \n",
       "3    O10038      DRIVER  c21c476e2ccc41af550b5d858d22aaac4ffc88745a1700...   \n",
       "4    O10039      DRIVER  eb390a4c8e114c69488f5fb8a097fe629f5a92fd528cf4...   \n",
       "\n",
       "   VEHICLE_ID              CRASH_DATE  SEAT_NO     CITY STATE ZIPCODE SEX  \\\n",
       "0    834816.0  09/28/2019 03:30:00 AM      NaN  CHICAGO    IL   60651   M   \n",
       "1    827212.0  04/13/2020 10:50:00 PM      NaN  CHICAGO    IL   60620   M   \n",
       "2      9579.0  11/01/2015 05:00:00 AM      NaN      NaN   NaN     NaN   X   \n",
       "3      9598.0  11/01/2015 08:00:00 AM      NaN      NaN   NaN     NaN   X   \n",
       "4      9600.0  11/01/2015 10:15:00 AM      NaN      NaN   NaN     NaN   X   \n",
       "\n",
       "   ...  EMS_RUN_NO     DRIVER_ACTION DRIVER_VISION PHYSICAL_CONDITION  \\\n",
       "0  ...         NaN           UNKNOWN       UNKNOWN            UNKNOWN   \n",
       "1  ...         NaN              NONE  NOT OBSCURED             NORMAL   \n",
       "2  ...         NaN  IMPROPER BACKING       UNKNOWN            UNKNOWN   \n",
       "3  ...         NaN           UNKNOWN       UNKNOWN            UNKNOWN   \n",
       "4  ...         NaN           UNKNOWN       UNKNOWN            UNKNOWN   \n",
       "\n",
       "  PEDPEDAL_ACTION PEDPEDAL_VISIBILITY PEDPEDAL_LOCATION        BAC_RESULT  \\\n",
       "0             NaN                 NaN               NaN  TEST NOT OFFERED   \n",
       "1             NaN                 NaN               NaN  TEST NOT OFFERED   \n",
       "2             NaN                 NaN               NaN  TEST NOT OFFERED   \n",
       "3             NaN                 NaN               NaN  TEST NOT OFFERED   \n",
       "4             NaN                 NaN               NaN  TEST NOT OFFERED   \n",
       "\n",
       "  BAC_RESULT VALUE CELL_PHONE_USE  \n",
       "0              NaN            NaN  \n",
       "1              NaN            NaN  \n",
       "2              NaN            NaN  \n",
       "3              NaN            NaN  \n",
       "4              NaN            NaN  \n",
       "\n",
       "[5 rows x 29 columns]"
      ]
     },
     "execution_count": 12,
     "metadata": {},
     "output_type": "execute_result"
    }
   ],
   "source": [
    "# Data understanding for People dataset\n",
    "\n",
    "people_df.head()"
   ]
  },
  {
   "cell_type": "code",
   "execution_count": 13,
   "id": "ddfdf877",
   "metadata": {},
   "outputs": [
    {
     "name": "stdout",
     "output_type": "stream",
     "text": [
      "<class 'pandas.core.frame.DataFrame'>\n",
      "RangeIndex: 1979859 entries, 0 to 1979858\n",
      "Data columns (total 29 columns):\n",
      " #   Column                 Dtype  \n",
      "---  ------                 -----  \n",
      " 0   PERSON_ID              object \n",
      " 1   PERSON_TYPE            object \n",
      " 2   CRASH_RECORD_ID        object \n",
      " 3   VEHICLE_ID             float64\n",
      " 4   CRASH_DATE             object \n",
      " 5   SEAT_NO                float64\n",
      " 6   CITY                   object \n",
      " 7   STATE                  object \n",
      " 8   ZIPCODE                object \n",
      " 9   SEX                    object \n",
      " 10  AGE                    float64\n",
      " 11  DRIVERS_LICENSE_STATE  object \n",
      " 12  DRIVERS_LICENSE_CLASS  object \n",
      " 13  SAFETY_EQUIPMENT       object \n",
      " 14  AIRBAG_DEPLOYED        object \n",
      " 15  EJECTION               object \n",
      " 16  INJURY_CLASSIFICATION  object \n",
      " 17  HOSPITAL               object \n",
      " 18  EMS_AGENCY             object \n",
      " 19  EMS_RUN_NO             object \n",
      " 20  DRIVER_ACTION          object \n",
      " 21  DRIVER_VISION          object \n",
      " 22  PHYSICAL_CONDITION     object \n",
      " 23  PEDPEDAL_ACTION        object \n",
      " 24  PEDPEDAL_VISIBILITY    object \n",
      " 25  PEDPEDAL_LOCATION      object \n",
      " 26  BAC_RESULT             object \n",
      " 27  BAC_RESULT VALUE       float64\n",
      " 28  CELL_PHONE_USE         object \n",
      "dtypes: float64(4), object(25)\n",
      "memory usage: 438.0+ MB\n"
     ]
    }
   ],
   "source": [
    "#\n",
    "people_df.info()"
   ]
  },
  {
   "cell_type": "code",
   "execution_count": 14,
   "id": "4a6e5d1d",
   "metadata": {},
   "outputs": [
    {
     "data": {
      "text/plain": [
       "PERSON_ID                 0.000000\n",
       "PERSON_TYPE               0.000000\n",
       "CRASH_RECORD_ID           0.000000\n",
       "VEHICLE_ID                2.053177\n",
       "CRASH_DATE                0.000000\n",
       "SEAT_NO                  79.779722\n",
       "CITY                     27.234616\n",
       "STATE                    26.128325\n",
       "ZIPCODE                  33.053566\n",
       "SEX                       1.683908\n",
       "AGE                      29.113487\n",
       "DRIVERS_LICENSE_STATE    41.463912\n",
       "DRIVERS_LICENSE_CLASS    51.340474\n",
       "SAFETY_EQUIPMENT          0.278858\n",
       "AIRBAG_DEPLOYED           1.975696\n",
       "EJECTION                  1.256756\n",
       "INJURY_CLASSIFICATION     0.037983\n",
       "HOSPITAL                 83.806675\n",
       "EMS_AGENCY               90.005854\n",
       "EMS_RUN_NO               98.331901\n",
       "DRIVER_ACTION            20.399685\n",
       "DRIVER_VISION            20.430950\n",
       "PHYSICAL_CONDITION       20.344782\n",
       "PEDPEDAL_ACTION          98.038042\n",
       "PEDPEDAL_VISIBILITY      98.041628\n",
       "PEDPEDAL_LOCATION        98.038042\n",
       "BAC_RESULT               20.352510\n",
       "BAC_RESULT VALUE         99.890295\n",
       "CELL_PHONE_USE           99.941410\n",
       "dtype: float64"
      ]
     },
     "execution_count": 14,
     "metadata": {},
     "output_type": "execute_result"
    }
   ],
   "source": [
    "(people_df.isna().sum()/len(people_df))*100"
   ]
  },
  {
   "cell_type": "code",
   "execution_count": null,
   "id": "2f778314",
   "metadata": {},
   "outputs": [],
   "source": [
    "plot_histograms(people_df)"
   ]
  },
  {
   "cell_type": "code",
   "execution_count": null,
   "id": "d499d541",
   "metadata": {},
   "outputs": [],
   "source": [
    "analyze_dates(people_df, 'CRASH_DATE')"
   ]
  },
  {
   "cell_type": "markdown",
   "id": "5e202599",
   "metadata": {},
   "source": [
    "### 2.2.3 Vehicles Dataset"
   ]
  },
  {
   "cell_type": "code",
   "execution_count": null,
   "id": "43b412b1",
   "metadata": {},
   "outputs": [],
   "source": [
    "# Data understanding for Vehicles dataset\n",
    "\n",
    "vehicles_df.head()"
   ]
  },
  {
   "cell_type": "code",
   "execution_count": null,
   "id": "60fb8513",
   "metadata": {},
   "outputs": [],
   "source": [
    "vehicles_df.info()"
   ]
  },
  {
   "cell_type": "code",
   "execution_count": null,
   "id": "47e13a91",
   "metadata": {},
   "outputs": [],
   "source": [
    "(vehicles_df.isna().sum()/len(vehicles_df))*100"
   ]
  },
  {
   "cell_type": "code",
   "execution_count": null,
   "id": "3898f250",
   "metadata": {},
   "outputs": [],
   "source": [
    "plot_histograms(vehicles_df)"
   ]
  },
  {
   "cell_type": "code",
   "execution_count": null,
   "id": "e7e61f48",
   "metadata": {},
   "outputs": [],
   "source": [
    "analyze_dates(vehicles_df, 'CRASH_DATE')"
   ]
  },
  {
   "cell_type": "markdown",
   "id": "42f39a23",
   "metadata": {},
   "source": [
    "### 2.2.4 Target Class"
   ]
  },
  {
   "cell_type": "code",
   "execution_count": null,
   "id": "78316838",
   "metadata": {},
   "outputs": [],
   "source": [
    "injury_counts = traffic_crashes_df['MOST_SEVERE_INJURY'].value_counts()\n",
    "injury_counts"
   ]
  },
  {
   "cell_type": "code",
   "execution_count": null,
   "id": "24fb230f",
   "metadata": {},
   "outputs": [],
   "source": [
    "traffic_crashes_df['MOST_SEVERE_INJURY'].value_counts(normalize = True)\n"
   ]
  },
  {
   "cell_type": "code",
   "execution_count": null,
   "id": "2ff8e539",
   "metadata": {},
   "outputs": [],
   "source": [
    "# Creates the bar plot\n",
    "#sns.set_theme(style=\"darkgrid\")\n",
    "#plt.figure(figsize=(8, 6))\n",
    "#sns.barplot(x=injury_counts.index, y=injury_counts.values)\n",
    "\n",
    "# Custom y-axis formatting to show values in 'k'\n",
    "def y_axis_formatter(x, pos):\n",
    "    \n",
    "    \"\"\"\n",
    "    Format the y-axis labels to display values in 'k' (thousands).\n",
    "\n",
    "    This function takes a numerical value (x) and converts it to a string representation \n",
    "    with a 'k' suffix, indicating that the number is in thousands. The function is intended \n",
    "    for use as a formatter in matplotlib plots to make large numbers easier to read.\n",
    "\n",
    "    Args:\n",
    "    x (float): The value to be formatted.\n",
    "    pos (int): The position of the tick (not used in the formatting, but required by matplotlib's formatter interface).\n",
    "\n",
    "    Returns:\n",
    "    str: The formatted string with a 'k' suffix (e.g., \"10k\" for 10000).\n",
    "    \"\"\"\n",
    "    \n",
    "    # Dividing by 1000 to convert to \"k\"\n",
    "    return f'{int(x / 1000)}k'  \n",
    "\n",
    "plt.gca().yaxis.set_major_formatter(FuncFormatter(y_axis_formatter))\n",
    "\n",
    "# Add titles and labels\n",
    "plt.title('Distribution of Most Severe Injury in Crashes', fontsize=16)\n",
    "plt.xlabel('Most Severe Injury', fontsize=16)\n",
    "plt.ylabel('Count', fontsize=16)\n",
    "\n",
    "# Rotate x-axis labels\n",
    "plt.xticks(rotation=25, ha='right', fontsize=14)\n",
    "plt.yticks(fontsize=14)\n",
    "\n",
    "# Make specific x-axis labels bold and red\n",
    "highlighted_labels = ['FATAL', 'INCAPACITATING INJURY']  \n",
    "for label in plt.gca().get_xticklabels():\n",
    "    if label.get_text() in highlighted_labels:\n",
    "        label.set_fontweight('bold')\n",
    "        label.set_color('red')\n",
    "\n",
    "# Save the plot with a transparent background\n",
    "plt.tight_layout()\n",
    "\n",
    "# saving the visualization is commented out \n",
    "plt.savefig('images/most_severe_distribution.png', transparent=False)  \n",
    "\n",
    "plt.show()"
   ]
  },
  {
   "cell_type": "markdown",
   "id": "29d323ea",
   "metadata": {},
   "source": [
    "## 3. <a name =\"Data-Preparation\"></a> Data Preparation"
   ]
  },
  {
   "cell_type": "markdown",
   "id": "f09d7463",
   "metadata": {},
   "source": [
    "For streamlined reproducibility, the data cleaning process was completed in `data_cleaning_notebook.ipynb`. The final cleaned dataset, `crashes_finalized_df`, has been uploaded to Kaggle for easy access.\n",
    "<br><br>\n",
    "**Final Cleaned Dataframe Overview**:\n",
    "   * Subset of merged data from `crashes_df`, `people_df`, and `vehicles_df`\n",
    "   * ***15***% random sample, keeping target class proportional with merged dataset\n",
    "   * Total of approximately ***96k*** records and ***16*** features\n",
    "   * Ready for modeling -- no null values\n",
    "\n",
    "For more detailed information on my data cleaning steps and justifications, please refer to the data_cleaning_steps.py file."
   ]
  },
  {
   "cell_type": "markdown",
   "id": "c13f6bd0",
   "metadata": {},
   "source": [
    "To load the final trimmed and cleaned dataset from Kaggle, use the following code.\n",
    "\n",
    "(Please be aware that running this code will require you to enter your kaggle username and API key. The code will not proceed if you do not provide accurate information.)\n",
    "\n",
    "To create a kaggle account, [click here](https://www.kaggle.com/account/login). \n",
    "\n",
    "For more details on obtaining your kaggle API key, [click here](https://github.com/Kaggle/kaggle-api/blob/main/docs/README.md)."
   ]
  },
  {
   "cell_type": "code",
   "execution_count": null,
   "id": "46ad6f1e",
   "metadata": {},
   "outputs": [],
   "source": [
    "# Step 1: Get Kaggle username and key from user input or environment variables\n",
    "os.environ[\"KAGGLE_USERNAME\"] = input(\"Enter Kaggle username: \")\n",
    "os.environ[\"KAGGLE_KEY\"] = input(\"Enter Kaggle key: \")\n",
    "\n",
    "# Detect the environment (Google Colab or local machine)\n",
    "if 'google.colab' in str(get_ipython()):\n",
    "    # For Google Colab, use the /root/.kaggle directory\n",
    "    kaggle_path = Path('/root/.kaggle')\n",
    "else:\n",
    "    # For local machine, use the home directory\n",
    "    kaggle_path = Path.home() / '.kaggle'\n",
    "\n",
    "# Create the .kaggle directory if it doesn't exist\n",
    "os.makedirs(kaggle_path, exist_ok=True)\n",
    "\n",
    "# Create the kaggle.json file with the correct API credentials\n",
    "kaggle_json = {\n",
    "    \"username\": os.getenv(\"KAGGLE_USERNAME\"),\n",
    "    \"key\": os.getenv(\"KAGGLE_KEY\")\n",
    "}\n",
    "\n",
    "# Write the kaggle.json file in the correct location\n",
    "with open(kaggle_path / 'kaggle.json', 'w') as f:\n",
    "    json.dump(kaggle_json, f)\n",
    "\n",
    "# Set file permissions to secure the API key (optional but recommended)\n",
    "os.chmod(kaggle_path / 'kaggle.json', 0o600)\n",
    "\n",
    "# Check if the credentials are set correctly (for debugging purposes)\n",
    "print(\"Kaggle credentials are set up successfully.\")"
   ]
  },
  {
   "cell_type": "code",
   "execution_count": null,
   "id": "fe99259f",
   "metadata": {},
   "outputs": [],
   "source": [
    "# Step 2: Download the dataset using Kaggle API\n",
    "\n",
    "# Set dataset identifier and download path\n",
    "dataset_identifier = 'ckucewicz/Chicago-Traffic-Data'\n",
    "download_path = Path('./data')  # Local or Colab download folder\n",
    "\n",
    "# Ensure the download path exists\n",
    "os.makedirs(download_path, exist_ok=True)\n",
    "\n",
    "# Detect the environment and run the appropriate download command\n",
    "if 'google.colab' in str(get_ipython()):\n",
    "    print(\"Downloading dataset in Google Colab...\")\n",
    "    !kaggle datasets download -d {dataset_identifier} --path {download_path}\n",
    "else:\n",
    "    print(\"Downloading dataset in Jupyter Notebook...\")\n",
    "    os.system(f\"kaggle datasets download -d {dataset_identifier} --path {download_path}\")"
   ]
  },
  {
   "cell_type": "code",
   "execution_count": null,
   "id": "1a6704f9",
   "metadata": {},
   "outputs": [],
   "source": [
    "# Step 3: Unzip the dataset\n",
    "zip_filename = download_path / 'Chicago-Traffic-Data.zip'  # Adjust the ZIP filename\n",
    "unzip_path = download_path / 'Chicago-Traffic-Data'\n",
    "\n",
    "# Ensure the extraction path exists\n",
    "os.makedirs(unzip_path, exist_ok=True)\n",
    "\n",
    "# Unzip the dataset\n",
    "try:\n",
    "    with zipfile.ZipFile(zip_filename, 'r') as zip_ref:\n",
    "        zip_ref.extractall(unzip_path)\n",
    "    print(f\"Dataset extracted to: {unzip_path}\")\n",
    "except FileNotFoundError:\n",
    "    print(f\"Error: {zip_filename} not found. Ensure the dataset was downloaded successfully.\")"
   ]
  },
  {
   "cell_type": "code",
   "execution_count": null,
   "id": "1b046a0d",
   "metadata": {},
   "outputs": [],
   "source": [
    "# Step 4: Load the cleaned dataset CSV into pandas DataFrame\n",
    "cleaned_csv = 'crashes_finalized_df.csv'  # The name of your cleaned dataset file\n",
    "cleaned_df_path = unzip_path / cleaned_csv  # Full path to the cleaned dataset\n",
    "\n",
    "try:\n",
    "    # Load CSV into pandas DataFrame\n",
    "    crashes_finalized_df = pd.read_csv(cleaned_df_path)\n",
    "    print(\"Cleaned DataFrame loaded successfully.\")\n",
    "\n",
    "except FileNotFoundError:\n",
    "    print(f\"Error: {cleaned_csv} not found in the extracted files.\")"
   ]
  },
  {
   "cell_type": "code",
   "execution_count": null,
   "id": "14411ee1",
   "metadata": {},
   "outputs": [],
   "source": [
    "crashes_finalized_df.head()"
   ]
  },
  {
   "cell_type": "code",
   "execution_count": null,
   "id": "daf62f94",
   "metadata": {},
   "outputs": [],
   "source": [
    "crashes_finalized_df.info()"
   ]
  },
  {
   "cell_type": "code",
   "execution_count": null,
   "id": "11a2cb0a",
   "metadata": {},
   "outputs": [],
   "source": [
    "# Select all columns except the target column\n",
    "columns_to_convert = [col for col in crashes_finalized_df.columns if col != 'severity_category']\n",
    "\n",
    "# Convert the selected columns to category type\n",
    "crashes_finalized_df[columns_to_convert] = crashes_finalized_df[columns_to_convert].apply(lambda x: x.astype('category'))\n",
    "\n",
    "# Optionally, check the types\n",
    "print(crashes_finalized_df.dtypes)"
   ]
  },
  {
   "cell_type": "code",
   "execution_count": null,
   "id": "01d07bfc",
   "metadata": {},
   "outputs": [],
   "source": [
    " crashes_finalized_df.isna().sum()"
   ]
  },
  {
   "cell_type": "code",
   "execution_count": null,
   "id": "92327f59",
   "metadata": {},
   "outputs": [],
   "source": [
    "crashes_finalized_df.severity_category.value_counts(normalize = True)"
   ]
  },
  {
   "cell_type": "code",
   "execution_count": null,
   "id": "25f891cb",
   "metadata": {},
   "outputs": [],
   "source": [
    "crashes_finalized_df.severity_category.value_counts()"
   ]
  },
  {
   "cell_type": "code",
   "execution_count": null,
   "id": "7c9a6611",
   "metadata": {},
   "outputs": [],
   "source": [
    "# Counts the occurrences of each category\n",
    "severity_counts = crashes_finalized_df.severity_category.value_counts()\n",
    "\n",
    "# Creates the bar plot\n",
    "sns.set_theme(style=\"darkgrid\")\n",
    "plt.figure(figsize=(8, 6))\n",
    "sns.barplot(x=severity_counts.index, y=severity_counts)\n",
    "\n",
    "# Custom y-axis formatting to show values in 'k'\n",
    "def y_axis_formatter(x, pos):\n",
    "    return f'{int(x / 1000)}k'\n",
    "\n",
    "plt.gca().yaxis.set_major_formatter(FuncFormatter(y_axis_formatter))\n",
    "\n",
    "# Adds titles and labels\n",
    "plt.title('Target Class Distribution', fontsize=16)\n",
    "plt.xlabel('Severity Category', fontsize=16)\n",
    "plt.ylabel('Count', fontsize=16)\n",
    "\n",
    "# Rotates x-axis labels\n",
    "plt.xticks(ha='right', fontsize=14)\n",
    "plt.yticks(fontsize=14)\n",
    "\n",
    "# Add a legend/key to clarify what the severity categories represent\n",
    "plt.legend(['Serious Injury (1)', 'Non-serious Injury (0)'], loc='upper right', title='Severity Category', fontsize=12)\n",
    "\n",
    "# Save the plot with a transparent background\n",
    "plt.tight_layout()\n",
    "\n",
    "# saving the visualization is commented out \n",
    "plt.savefig('images/target_distribution.png', transparent=False)\n",
    "\n",
    "plt.show()"
   ]
  },
  {
   "cell_type": "markdown",
   "id": "9b3de2b8",
   "metadata": {},
   "source": [
    "## 4. <a name =\"Exploratory-Data-Analysis\"></a>Exploratory Data Analysis (EDA)"
   ]
  },
  {
   "cell_type": "markdown",
   "id": "7b804347",
   "metadata": {},
   "source": []
  },
  {
   "cell_type": "code",
   "execution_count": null,
   "id": "70a44c84",
   "metadata": {},
   "outputs": [],
   "source": [
    "def feature_analysis_and_plot(crashes_df, feature, custom_labels=None, save_viz=False, save_path=\"./images/feature_distribution_plot.png\"):\n",
    "    \"\"\"\n",
    "    Creates a pivot table and then plots the comparison of a specified feature's distribution in serious injuries vs total injuries.\n",
    "    \n",
    "    Parameters:\n",
    "    - crashes_df: DataFrame containing crash data\n",
    "    - feature: The column name (as a string) in the DataFrame for which the distribution will be shown and plotted\n",
    "    - custom_labels: Optional dictionary to map feature values to custom labels (e.g., { 'm': 'Male', 'f': 'Female' })\n",
    "    - save_viz: Boolean flag to save the plot as a file (default is False, not saved)\n",
    "    - save_path: File path for saving the plot (default is \"feature_distribution_plot.png\")\n",
    "    \n",
    "    Returns:\n",
    "    - None: Displays the pivot table and the plot\n",
    "    \"\"\"\n",
    "    # Filter data to only include serious injuries (severity_category = 1)\n",
    "    serious_injuries_df = crashes_df[crashes_df['severity_category'] == 1]\n",
    "\n",
    "    # Calculate the percentage distribution for the specified feature in serious injuries\n",
    "    serious_feature_distribution = serious_injuries_df[feature].value_counts(normalize=True)\n",
    "\n",
    "    # Calculate the percentage distribution for the specified feature in all crashes\n",
    "    total_feature_distribution = crashes_df[feature].value_counts(normalize=True)\n",
    "\n",
    "    # Combine the distributions into a single DataFrame for comparison\n",
    "    feature_distribution = pd.DataFrame({\n",
    "        'Total Injuries (%)': total_feature_distribution,\n",
    "        'Serious Injuries (%)': serious_feature_distribution\n",
    "    })\n",
    "\n",
    "    # If custom labels are provided, apply them to the index (x-axis categories)\n",
    "    if custom_labels:\n",
    "        feature_distribution.index = feature_distribution.index.map(custom_labels)\n",
    "\n",
    "    # Create a pivot table with the feature categories as the index and columns as Total and Serious Injuries\n",
    "    pivot_table = feature_distribution\n",
    "\n",
    "    # Display the pivot table as percentages (optional formatting step)\n",
    "    pivot_table = pivot_table * 100  # Convert to percentage\n",
    "\n",
    "    # Round the percentages to 1 decimal place\n",
    "    pivot_table = pivot_table.round(1)\n",
    "\n",
    "    # Format the feature name in title case and split by underscores\n",
    "    formatted_feature_name = ' '.join(feature.split('_')).title()\n",
    "\n",
    "    # Print a more descriptive message before the pivot table\n",
    "    print(f\"{formatted_feature_name} Distribution Percentages:\")\n",
    "    print(pivot_table)\n",
    "\n",
    "    # Plot the data\n",
    "    ax = feature_distribution.plot(kind='bar', figsize=(10, 6), width=0.8, color=['lightgrey', 'gold'])\n",
    "\n",
    "    # Set background color to white\n",
    "    ax.set_facecolor('white')\n",
    "\n",
    "    # Adding titles and labels\n",
    "    plt.title(f\"Comparison of {formatted_feature_name} Distribution: Serious Injuries vs Total Injuries\", fontsize=20)\n",
    "    plt.xlabel(formatted_feature_name, fontsize=16)\n",
    "    plt.ylabel(\"Percentage\", fontsize=16)\n",
    "    plt.xticks(rotation=30, fontsize=16)\n",
    "    plt.yticks(fontsize=16)\n",
    "\n",
    "    # Format y-axis labels as percentages\n",
    "    formatter = FuncFormatter(lambda x, _: f'{x*100:.0f}%')  # Multiply by 100 to convert to percentage\n",
    "    ax.yaxis.set_major_formatter(formatter)\n",
    "\n",
    "    # Display the plot\n",
    "    plt.tight_layout()\n",
    "    \n",
    "    # If save_viz is True, save the plot as a PNG file\n",
    "    if save_viz:\n",
    "        plt.savefig(save_path, format='png', bbox_inches='tight')\n",
    "        print(\"\")\n",
    "        print(f\"Plot saved as {save_path}\")\n",
    "    \n",
    "    # Show the plot\n",
    "    plt.show()\n",
    "\n"
   ]
  },
  {
   "cell_type": "code",
   "execution_count": null,
   "id": "0087b9f8",
   "metadata": {},
   "outputs": [],
   "source": [
    "# pivot table and visualization for airbag_deployed feature\n",
    "\n",
    "feature_analysis_and_plot(crashes_finalized_df, 'airbag_deployed', save_viz=False)\n"
   ]
  },
  {
   "cell_type": "code",
   "execution_count": null,
   "id": "09816b22",
   "metadata": {},
   "outputs": [],
   "source": [
    "# pivot table and visualization for sex feature\n",
    "\n",
    "feature_analysis_and_plot(crashes_finalized_df, 'sex', save_viz=True, save_path=\"./images/sex_distribution_plot.png\")"
   ]
  },
  {
   "cell_type": "code",
   "execution_count": null,
   "id": "647691fb",
   "metadata": {},
   "outputs": [],
   "source": [
    "# pivot table and visualization for age_group feature\n",
    "feature_analysis_and_plot(crashes_finalized_df, 'age_group', save_viz=False, save_path=\"sex_distribution_plot.png\")"
   ]
  },
  {
   "cell_type": "code",
   "execution_count": null,
   "id": "2d114b21",
   "metadata": {},
   "outputs": [],
   "source": [
    "# pivot table and visualization for speed_limit_category feature\n",
    "feature_analysis_and_plot(crashes_finalized_df, 'speed_limit_category', save_viz=True, save_path=\"./images/speed_category_distribution_plot.png\")"
   ]
  },
  {
   "cell_type": "code",
   "execution_count": null,
   "id": "f1ac0d21",
   "metadata": {},
   "outputs": [],
   "source": [
    "# pivot table and visualization for road category feature\n",
    "feature_analysis_and_plot(crashes_finalized_df, 'road_category', save_viz=False)"
   ]
  },
  {
   "cell_type": "code",
   "execution_count": null,
   "id": "c07b7ee0",
   "metadata": {},
   "outputs": [],
   "source": [
    "# pivot table and visualization for vehicle_category feature\n",
    "feature_analysis_and_plot(crashes_finalized_df, 'vehicle_category', save_viz=True, save_path=\"./images/vehicle_distribution_plot.png\")"
   ]
  },
  {
   "cell_type": "code",
   "execution_count": null,
   "id": "351670b9",
   "metadata": {},
   "outputs": [],
   "source": [
    "# pivot table and visualization for crash_cause_category feature\n",
    "feature_analysis_and_plot(crashes_finalized_df, 'crash_cause_category', save_viz=True, save_path=\"./images/crash_cause_distribution_plot.png\")"
   ]
  },
  {
   "cell_type": "code",
   "execution_count": null,
   "id": "442fd7b8",
   "metadata": {},
   "outputs": [],
   "source": [
    "# List of features you want to analyze\n",
    "features_to_analyze = [col for col in crashes_finalized_df.columns if col != 'severity_category']\n",
    "\n",
    "# Create an empty list to store the differences and their corresponding feature categories\n",
    "differences = []\n",
    "\n",
    "for feature in features_to_analyze:\n",
    "    # Filter data to only include serious injuries (severity_category = 1)\n",
    "    serious_injuries_df = crashes_finalized_df[crashes_finalized_df['severity_category'] == 1]\n",
    "    \n",
    "    # Calculate the percentage distribution for the specified feature in serious injuries\n",
    "    serious_feature_distribution = serious_injuries_df[feature].value_counts(normalize=True)\n",
    "    \n",
    "    # Calculate the percentage distribution for the specified feature in all crashes\n",
    "    total_feature_distribution = crashes_finalized_df[feature].value_counts(normalize=True)\n",
    "    \n",
    "    # Calculate the percentage difference (serious injuries - total injuries)\n",
    "    feature_categories = total_feature_distribution.index\n",
    "    for category in feature_categories:\n",
    "        if category in serious_feature_distribution.index:\n",
    "            serious_pct = serious_feature_distribution[category]\n",
    "            total_pct = total_feature_distribution[category]\n",
    "            diff = serious_pct - total_pct  # Positive means overrepresented in serious injuries\n",
    "            differences.append((feature, category, diff * 100))  # Store feature name, category, and percentage difference\n",
    "\n",
    "# Convert the list to a DataFrame\n",
    "diff_df = pd.DataFrame(differences, columns=['Feature', 'Category', 'Difference'])\n",
    "\n",
    "# Filter out negative differences (we only care about overrepresented categories)\n",
    "diff_df = diff_df[diff_df['Difference'] > 0]\n",
    "\n",
    "# Sort the DataFrame by the 'Difference' column in descending order (highest differences first)\n",
    "top_10_diff_df = diff_df.sort_values(by='Difference', ascending=False).head(10)\n",
    "\n",
    "# Reverse the order of the categories for plotting\n",
    "top_10_diff_df = top_10_diff_df.iloc[::-1]\n",
    "\n",
    "# Plot the data\n",
    "plt.figure(figsize=(10, 6))\n",
    "ax = plt.barh(top_10_diff_df['Category'] + ' (' + top_10_diff_df['Feature'] + ')',\n",
    "              top_10_diff_df['Difference'], color='gold')\n",
    "\n",
    "# Get the current axes for formatting\n",
    "ax = plt.gca()\n",
    "\n",
    "# Set background color to white\n",
    "ax.set_facecolor('white')\n",
    "\n",
    "# Adding titles and labels\n",
    "plt.title(\"Top 10 Overrepresented Factors in Serious Injuries\", fontsize=18)\n",
    "plt.xlabel(\"Percentage Difference (Serious Injuries - Total Injuries)\", fontsize=14)\n",
    "plt.ylabel(\"Feature Category\", fontsize=14)\n",
    "plt.xticks(fontsize=15)\n",
    "plt.yticks(fontsize=16)\n",
    "\n",
    "# Format x-axis labels as percentages\n",
    "formatter = FuncFormatter(lambda x, _: f'{x:.0f}%')\n",
    "ax.xaxis.set_major_formatter(formatter)\n",
    "\n",
    "# Display the plot\n",
    "plt.tight_layout()\n",
    "\n",
    "# Save the plot as a PNG file if desired\n",
    "save_viz = True  # Change this to False if you don't want to save the plot\n",
    "if save_viz:\n",
    "    plt.savefig(\"./images/top_10_overrepresented.png\", format='png', bbox_inches='tight')\n",
    "    print(\"Plot saved as top_10_overrepresented.png\")\n",
    "\n",
    "# Show the plot\n",
    "plt.show();"
   ]
  },
  {
   "cell_type": "markdown",
   "id": "d3655862",
   "metadata": {},
   "source": [
    "## 5. <a name =\"Modeling\"></a>  Modeling"
   ]
  },
  {
   "cell_type": "markdown",
   "id": "850d1c3a",
   "metadata": {},
   "source": [
    "Steps:\n",
    "* Train-test-split two times: \n",
    "    * initial split: train and test sets\n",
    "    * second split: test and validation sets\n",
    "    \n",
    "    \n",
    "* evaluation function\n",
    "\n",
    "\n",
    "* create pipeline\n",
    "    * includes preprocessing steps\n",
    "    \n",
    "\n",
    "* baseline logreg\n",
    "    * proprocess\n",
    "    * fit model\n",
    "    * evaluate performance\n"
   ]
  },
  {
   "cell_type": "code",
   "execution_count": null,
   "id": "7360c78f",
   "metadata": {},
   "outputs": [],
   "source": [
    "# identifying predictor variables and target\n",
    "y = crashes_finalized_df[['severity_category']]\n",
    "X = crashes_finalized_df.drop(columns = ['severity_category'], axis = 1)\n",
    "\n",
    "# initial 80/20 split into train and remaining data (for test and validation)\n",
    "X_train, X_remaining, y_train, y_remaining = train_test_split(X, y, random_state = 42, test_size = 0.2)\n",
    "\n",
    "# split remaining 20% into 50/50 for test and validation\n",
    "X_test, X_val, y_test, y_val = train_test_split(X_remaining, y_remaining, random_state = 42, test_size = 0.5)  \n",
    "\n",
    "# Use ravel() to ensure 1D\n",
    "y_train = np.ravel(y_train)\n",
    "y_val = np.ravel(y_val)\n",
    "y_test = np.ravel(y_test)"
   ]
  },
  {
   "cell_type": "markdown",
   "id": "8017f469",
   "metadata": {},
   "source": [
    "### Building Evaluation Function"
   ]
  },
  {
   "cell_type": "code",
   "execution_count": null,
   "id": "b2e9fe63",
   "metadata": {},
   "outputs": [],
   "source": [
    "def evaluate_pr_auc(model, X_train, y_train, X_test, y_test):\n",
    "    \"\"\"\n",
    "    Evaluate a model's performance using PR AUC on train and test datasets, and plot the PR AUC curves.\n",
    "    \n",
    "    Parameters:\n",
    "    - model: Trained classification model.\n",
    "    - X_train, y_train: Training features and labels.\n",
    "    - X_test, y_test: Testing features and labels.\n",
    "    \n",
    "    Returns:\n",
    "    - Dictionary with PR AUC scores for train and test sets.\n",
    "    \"\"\"\n",
    "    \n",
    "    # Predict probabilities for train and test sets\n",
    "    y_train_probs = model.predict_proba(X_train)[:, 1]\n",
    "    y_test_probs = model.predict_proba(X_test)[:, 1]\n",
    "    \n",
    "    # Calculate precision, recall, and thresholds for train and test\n",
    "    precision_train, recall_train, _ = precision_recall_curve(y_train, y_train_probs)\n",
    "    precision_test, recall_test, _ = precision_recall_curve(y_test, y_test_probs)\n",
    "    \n",
    "    # Calculate PR AUC for train and test\n",
    "    pr_auc_train = auc(recall_train, precision_train)\n",
    "    pr_auc_test = auc(recall_test, precision_test)\n",
    "    \n",
    "    # Plot the PR AUC curves\n",
    "    plt.figure(figsize=(10, 7))\n",
    "    \n",
    "    # No-skill baseline (proportion of positive class in the dataset)\n",
    "    no_skill_train = len(y_train[y_train == 1]) / len(y_train)\n",
    "    no_skill_test = len(y_test[y_test == 1]) / len(y_test)\n",
    "    plt.plot([0, 1], [no_skill_train, no_skill_train], linestyle='--', label='No Skill (Train)', color='gray')\n",
    "    plt.plot([0, 1], [no_skill_test, no_skill_test], linestyle='--', label='No Skill (Test)', color='lightgray')\n",
    "    \n",
    "    # Add PR curves\n",
    "    plt.plot(recall_train, precision_train, label=f'Train PR AUC = {pr_auc_train:.4f}', color='blue')\n",
    "    plt.plot(recall_test, precision_test, label=f'Test PR AUC = {pr_auc_test:.4f}', color='red')\n",
    "    \n",
    "    # Plot settings\n",
    "    plt.title('Precision-Recall (PR) Curve')\n",
    "    plt.xlabel('Recall')\n",
    "    plt.ylabel('Precision')\n",
    "    plt.legend(loc='upper right')\n",
    "    plt.grid(alpha=0.3)\n",
    "    plt.show()\n",
    "    \n",
    "    # Return PR AUC scores\n",
    "    return {\n",
    "        'PR AUC Train': round(pr_auc_train, 4),\n",
    "        'PR AUC Test': round(pr_auc_test, 4)\n",
    "    }"
   ]
  },
  {
   "cell_type": "markdown",
   "id": "79ad61bb",
   "metadata": {},
   "source": [
    "## Preprocessing Pipeline"
   ]
  },
  {
   "cell_type": "code",
   "execution_count": null,
   "id": "4fc8f35f",
   "metadata": {},
   "outputs": [],
   "source": [
    "# Identify categorical features\n",
    "categorical_features = X_train.select_dtypes(include=['object', 'category']).columns.copy()\n",
    "\n",
    "# Identify numerical features\n",
    "numerical_features = X_train.select_dtypes(include=['int64', 'float64']).columns.copy()\n",
    "\n",
    "# Create a preprocessor\n",
    "preprocessor = ColumnTransformer(\n",
    "    transformers=[\n",
    "        # Apply OneHotEncoder to categorical features\n",
    "        ('cat', OneHotEncoder(drop='first', handle_unknown='ignore', sparse_output = False), categorical_features),\n",
    "        \n",
    "        # Apply StandardScaler to numerical features\n",
    "        ('num', StandardScaler(), numerical_features)\n",
    "    ])"
   ]
  },
  {
   "cell_type": "markdown",
   "id": "6efd2c4e",
   "metadata": {},
   "source": [
    "### Baseline Models"
   ]
  },
  {
   "cell_type": "markdown",
   "id": "834b58be",
   "metadata": {},
   "source": [
    "#### Baseline Logistic Regression"
   ]
  },
  {
   "cell_type": "code",
   "execution_count": null,
   "id": "131e21e4",
   "metadata": {},
   "outputs": [],
   "source": [
    "#  Creates a logistic regression model with preprocessing and model instantiation pipeline\n",
    "pipeline_logreg_baseline = Pipeline(steps=[\n",
    "    # Apply the preprocessing steps\n",
    "    ('preprocessor', preprocessor),  \n",
    "      # Instantiate the model\n",
    "    ('classifier', LogisticRegression(solver='liblinear', C=1e16, random_state=42))\n",
    "])\n",
    "\n",
    "# Fit the model to the training data\n",
    "pipeline_logreg_baseline.fit(X_train, y_train)\n",
    "\n",
    "# generating predictions based on the training features\n",
    "y_train_pred = pipeline_logreg_baseline.predict(X_train)"
   ]
  },
  {
   "cell_type": "code",
   "execution_count": null,
   "id": "54b829d7",
   "metadata": {},
   "outputs": [],
   "source": [
    "# Evaluate the model\n",
    "evaluate_pr_auc(pipeline_logreg_baseline, X_train, y_train, X_val, y_val)"
   ]
  },
  {
   "cell_type": "code",
   "execution_count": null,
   "id": "a68abf11",
   "metadata": {},
   "outputs": [],
   "source": [
    "# generating predictions based on X_val\n",
    "y_val_pred = pipeline_logreg_baseline.predict(X_val)\n",
    "\n",
    "print(\"Confusion Matrix:\\n\", confusion_matrix(y_val, y_val_pred))"
   ]
  },
  {
   "cell_type": "code",
   "execution_count": null,
   "id": "b99168f1",
   "metadata": {},
   "outputs": [],
   "source": [
    "# Access the Logistic Regression model from the pipeline\n",
    "logreg_baseline_model = pipeline_logreg_baseline.named_steps['classifier']\n",
    "\n",
    "# Get model coefficients and intercept\n",
    "coefficients = logreg_baseline_model.coef_.flatten()  # Flatten the coefficients array for easier access\n",
    "intercept = logreg_baseline_model.intercept_[0]\n",
    "\n",
    "# Access the preprocessor and extract the feature names after preprocessing\n",
    "preprocessor = pipeline_logreg_baseline.named_steps['preprocessor']\n",
    "categorical_features = preprocessor.transformers_[0][1].get_feature_names_out()\n",
    "numerical_features = X_train.select_dtypes(include=['int64', 'float64']).columns\n",
    "feature_names = np.concatenate([categorical_features, numerical_features])\n",
    "\n",
    "# Create a DataFrame with the feature names and their corresponding coefficients\n",
    "coef_df = pd.DataFrame(\n",
    "    data = coefficients,\n",
    "    index = feature_names,  # Use the feature names after one-hot encoding\n",
    "    columns = ['Coefficient']  # Name the column as 'Coefficient'\n",
    ")\n",
    "\n",
    "# Add a column for the absolute value of the coefficients to sort by significance\n",
    "coef_df['Abs_Coefficient'] = coef_df['Coefficient'].abs()\n",
    "\n",
    "# Sort the DataFrame by the absolute value of the coefficients in descending order\n",
    "coef_df_sorted = coef_df.sort_values(by='Abs_Coefficient', ascending=False).head(5)\n",
    "\n",
    "# Display the intercept\n",
    "print(f\"Intercept: {intercept}\")\n",
    "\n",
    "# Display the sorted coefficients\n",
    "coef_df_sorted"
   ]
  },
  {
   "cell_type": "markdown",
   "id": "4d9460f9",
   "metadata": {},
   "source": [
    "## Baseline Decision Tree"
   ]
  },
  {
   "cell_type": "code",
   "execution_count": null,
   "id": "06e5caa6",
   "metadata": {},
   "outputs": [],
   "source": [
    "#  Create a decision tree pipeline with preprocessing and model instantiation\n",
    "pipeline_dt_baseline = Pipeline(steps=[\n",
    "    # Apply the preprocessing steps\n",
    "    ('preprocessor', preprocessor),  \n",
    "      # Instantiate the model\n",
    "    ('classifier', DecisionTreeClassifier(criterion = 'entropy', random_state=42))\n",
    "])"
   ]
  },
  {
   "cell_type": "code",
   "execution_count": null,
   "id": "3b062def",
   "metadata": {},
   "outputs": [],
   "source": [
    "pipeline_dt_baseline.fit(X_train, y_train)"
   ]
  },
  {
   "cell_type": "code",
   "execution_count": null,
   "id": "c0ad5412",
   "metadata": {},
   "outputs": [],
   "source": [
    "# calls the function on the pipeline\n",
    "evaluate_pr_auc(pipeline_dt_baseline, X_train, y_train, X_val, y_val)"
   ]
  },
  {
   "cell_type": "code",
   "execution_count": null,
   "id": "3d54987f",
   "metadata": {},
   "outputs": [],
   "source": [
    "# generating predictions based on X_val\n",
    "y_val_pred = pipeline_dt_baseline.predict(X_val)\n",
    "\n",
    "print(\"Confusion Matrix:\\n\", confusion_matrix(y_val, y_val_pred))"
   ]
  },
  {
   "cell_type": "markdown",
   "id": "e49aa3c4",
   "metadata": {},
   "source": [
    "### Addressing Class Imbalance through Sampling and Class Weights"
   ]
  },
  {
   "cell_type": "code",
   "execution_count": null,
   "id": "7838e76e",
   "metadata": {},
   "outputs": [],
   "source": [
    "# 1. Logistic Regression + SMOTE\n",
    "smote = SMOTE(random_state=42)\n",
    "logreg_smote = ImbPipeline([\n",
    "    ('preprocessor', preprocessor),\n",
    "    ('smote', smote),\n",
    "    ('classifier', LogisticRegression(solver = 'liblinear', C = 1e16, random_state=42))\n",
    "])"
   ]
  },
  {
   "cell_type": "code",
   "execution_count": null,
   "id": "0791c9b9",
   "metadata": {},
   "outputs": [],
   "source": [
    "# 2. Logistic Regression + SMOTE + Balanced class weights\n",
    "logreg_smote_balanced = ImbPipeline([\n",
    "    ('preprocessor', preprocessor),\n",
    "    ('smote', smote),\n",
    "    ('classifier', LogisticRegression(solver = 'liblinear', C = 1e16, class_weight='balanced', random_state=42))\n",
    "])"
   ]
  },
  {
   "cell_type": "code",
   "execution_count": null,
   "id": "381c9950",
   "metadata": {},
   "outputs": [],
   "source": [
    "# 3. Decision Tree + SMOTE\n",
    "decision_tree_smote = ImbPipeline([\n",
    "    ('preprocessor', preprocessor),\n",
    "    ('smote', smote),\n",
    "    ('classifier', DecisionTreeClassifier(criterion = 'entropy', random_state=42))\n",
    "])"
   ]
  },
  {
   "cell_type": "code",
   "execution_count": null,
   "id": "31882ad0",
   "metadata": {},
   "outputs": [],
   "source": [
    "# 4. Decision Tree + SMOTE + Balanced class weights\n",
    "decision_tree_smote_balanced = ImbPipeline([\n",
    "    ('preprocessor', preprocessor),\n",
    "    ('smote', smote),\n",
    "    ('classifier', DecisionTreeClassifier(criterion = 'entropy', class_weight='balanced', random_state=42))\n",
    "])"
   ]
  },
  {
   "cell_type": "code",
   "execution_count": null,
   "id": "0c2093ab",
   "metadata": {},
   "outputs": [],
   "source": [
    "# Create a list of models to iterate over\n",
    "models = [\n",
    "    ('Logistic Regression + SMOTE', logreg_smote),\n",
    "    ('Logistic Regression + SMOTE + Balanced', logreg_smote_balanced),\n",
    "    ('Decision Tree + SMOTE', decision_tree_smote),\n",
    "    ('Decision Tree + SMOTE + Balanced', decision_tree_smote_balanced)\n",
    "]"
   ]
  },
  {
   "cell_type": "code",
   "execution_count": null,
   "id": "ac78ddb9",
   "metadata": {},
   "outputs": [],
   "source": [
    "# Initialize an empty list to store the PR AUC scores for each model\n",
    "pr_auc_scores_list = []\n",
    "\n",
    "# Loop through the models to calculate the PR AUC for train and validation sets\n",
    "for model_name, model in models:\n",
    "    # Train the model once\n",
    "    model.fit(X_train, y_train)\n",
    "    \n",
    "    # Predict probabilities on the training set\n",
    "    y_train_probs = model.predict_proba(X_train)[:, 1]\n",
    "    precision_train, recall_train, _ = precision_recall_curve(y_train, y_train_probs)\n",
    "    pr_auc_train = auc(recall_train, precision_train)\n",
    "    \n",
    "    # Predict probabilities on the validation set\n",
    "    y_val_probs = model.predict_proba(X_val)[:, 1]\n",
    "    precision_val, recall_val, _ = precision_recall_curve(y_val, y_val_probs)\n",
    "    pr_auc_val = auc(recall_val, precision_val)\n",
    "    \n",
    "    # Append the results as a dictionary to the list\n",
    "    pr_auc_scores_list.append({\n",
    "        'Model': model_name,\n",
    "        'Train PR AUC': pr_auc_train,\n",
    "        'Val PR AUC': pr_auc_val\n",
    "    })\n",
    "\n",
    "# Convert the list of dictionaries into a DataFrame\n",
    "pr_auc_df = pd.DataFrame(pr_auc_scores_list)\n",
    "\n",
    "# Round the values to 4 decimal places\n",
    "pr_auc_df[['Train PR AUC', 'Val PR AUC']] = pr_auc_df[['Train PR AUC', 'Val PR AUC']].round(4)\n",
    "\n",
    "# Display the DataFrame\n",
    "pr_auc_df"
   ]
  },
  {
   "cell_type": "code",
   "execution_count": null,
   "id": "bc18e18d",
   "metadata": {},
   "outputs": [],
   "source": [
    "# Ensure y_val is a 1D array (flattened)\n",
    "y_val = np.array(y_val).flatten()  # Flatten if necessary\n",
    "\n",
    "# Calculate the proportion of the positive class in y_val\n",
    "no_skill = y_val.mean()\n",
    "\n",
    "# Plot the PR AUC curve\n",
    "plt.figure(figsize=(10, 8))\n",
    "\n",
    "for model_name, model in models:\n",
    "    # Predict probabilities on the validation set (no need to fit the model again)\n",
    "    y_probs = model.predict_proba(X_val)[:, 1]  # Use X_val for predictions\n",
    "    \n",
    "    # Calculate precision, recall, and AUC\n",
    "    precision, recall, _ = precision_recall_curve(y_val, y_probs)  # Use y_val for the ground truth\n",
    "    pr_auc = auc(recall, precision)\n",
    "    \n",
    "    # Plot the PR AUC curve\n",
    "    plt.plot(recall, precision, label=f'{model_name} (PR AUC = {pr_auc:.2f})')\n",
    "\n",
    "# Plot the no-skill line (reflecting class imbalance)\n",
    "plt.plot([0, 1], [no_skill, no_skill], linestyle='--', label=f'No Skill (Proportion = {no_skill:.2f})')\n",
    "\n",
    "# Add labels and title\n",
    "plt.xlabel('Recall')\n",
    "plt.ylabel('Precision')\n",
    "plt.title('Precision-Recall AUC for Different Models')\n",
    "plt.legend(loc='upper right')\n",
    "plt.grid(True)\n",
    "plt.show();"
   ]
  },
  {
   "cell_type": "markdown",
   "id": "6ef4c205",
   "metadata": {},
   "source": [
    "### Hyperparameter Tuning with GridSearchCV"
   ]
  },
  {
   "cell_type": "code",
   "execution_count": null,
   "id": "826917e8",
   "metadata": {},
   "outputs": [],
   "source": [
    "# Define custom class weights (adjust as needed)\n",
    "class_weights = [\n",
    "    {0: 1, 1: 5},   # Class 0 has normal weight, Class 1 has higher weight\n",
    "    {0: 1, 1: 10},  # Class 1 gets an even higher weight\n",
    "    {0: 1, 1: 50},  # Class 1 gets much higher weight\n",
    "]\n",
    "\n",
    "# Define parameters for GridSearchCV (tuning class_weight)\n",
    "param_grid_logreg = {\n",
    "    'classifier__class_weight': class_weights,  # Tune class_weight\n",
    "}\n",
    "\n",
    "param_grid_dtree = {\n",
    "    'classifier__class_weight': class_weights,  # Tune class_weight\n",
    "}\n",
    "\n",
    "\n",
    "# GridSearchCV for Logistic Regression with SMOTE and custom class weights\n",
    "grid_logreg = GridSearchCV(\n",
    "    estimator=ImbPipeline([\n",
    "        ('preprocessor', preprocessor),\n",
    "        ('smote', smote),  # Apply SMOTE for balancing\n",
    "        ('classifier', LogisticRegression(random_state=42, max_iter=1000))\n",
    "    ]),\n",
    "    param_grid=param_grid_logreg,\n",
    "    cv=5,  # Cross-validation splits\n",
    "    scoring='average_precision',  \n",
    "    n_jobs=-1,\n",
    "    verbose=1\n",
    ")\n",
    "\n",
    "# GridSearchCV for Decision Tree with SMOTE and custom class weights\n",
    "grid_dtree = GridSearchCV(\n",
    "    estimator=ImbPipeline([\n",
    "        ('preprocessor', preprocessor),\n",
    "        ('smote', smote),  # Apply SMOTE for class balancing\n",
    "        ('classifier', DecisionTreeClassifier(criterion = 'entropy', random_state=42))\n",
    "    ]),\n",
    "    param_grid=param_grid_dtree,\n",
    "    cv=5,  # Cross-validation splits\n",
    "    scoring='average_precision', \n",
    "    n_jobs=-1,\n",
    "    verbose=1\n",
    ")\n",
    "\n",
    "# Fit the grid searches\n",
    "grid_logreg.fit(X_train, y_train)\n",
    "grid_dtree.fit(X_train, y_train)\n",
    "\n",
    "# Print best parameters and scores\n",
    "print(\"Best Logistic Regression Params:\", grid_logreg.best_params_)\n",
    "print(\"Best Logistic Regression Score:\", round(grid_logreg.best_score_, 4))\n",
    "\n",
    "print(\"Best Decision Tree Params:\", grid_dtree.best_params_)\n",
    "print(\"Best Decision Tree Score:\", round(grid_dtree.best_score_, 4))"
   ]
  },
  {
   "cell_type": "markdown",
   "id": "093ca056",
   "metadata": {},
   "source": [
    "## 6. <a name =\"Evaluation\"></a> Evaluation"
   ]
  },
  {
   "cell_type": "markdown",
   "id": "223b9cfd",
   "metadata": {},
   "source": [
    "The predictive performance of my models was generally low, with the best-performing baseline decision tree model achieving a PR AUC of 0.0956 on validation data (where a PR AUC score of 1 represents perfect performance). This could be due to significant class imbalance or suboptimal feature selection during the data preparation phase.\n",
    "\n",
    "However, the main focus of this project was on model inference rather than predictive accuracy. The goal was to understand how the model makes predictions in order to help identify key contributing factors in serious (fatal or incapacitating) traffic crashes. Decision trees are ideal for this type of analysis because they are simple, interpretable, and provide insights into feature importance.\n",
    "\n",
    "Entropy is a measure of the uncertainty or impurity in a dataset. When a decision tree splits the data based on a feature, it seeks to reduce the entropy in the resulting subsets. The more a feature helps to reduce uncertainty, the more important it is in making decisions. Information gain is the reduction in entropy when a feature is used to split the data. A higher information gain indicates that the feature is more effective at clarifying the target variable’s behavior.\n",
    "\n",
    "The feature_importances_ attribute in decision trees ranks features based on how much they reduce entropy across the tree. Features with higher importance scores are those that provide more significant reductions in uncertainty, helping the model make more confident predictions. Unlike linear regression coefficients, feature importance scores in decision trees do not convey the direction or magnitude of the effect on the target variable, but instead reflect their contribution to reducing uncertainty.\n",
    "\n",
    "Based on the decision tree model, the most important features for predicting serious car crashes were:\n",
    "   1. **Airbag Deployment (‘Not Deployed’)**\n",
    "   2. **Crash Cause Category (‘Unknown/Other’)**: Although significant in the model, this feature offers little actionable insight.\n",
    "   3. **Sex (‘Male’)**\n",
    "   4. **Seasonality (Summer, Winter, and Spring)**\n",
    "\n",
    "I’ll elaborate on each of these features below, as they will inform the recommendations in the conclusion."
   ]
  },
  {
   "cell_type": "markdown",
   "id": "84fa4031",
   "metadata": {},
   "source": [
    "### Best Model: Decision Tree Baseline "
   ]
  },
  {
   "cell_type": "code",
   "execution_count": null,
   "id": "382e5e44",
   "metadata": {},
   "outputs": [],
   "source": [
    "# Predictions\n",
    "y_pred = pipeline_dt_baseline.predict(X_test)\n",
    "y_pred_proba = pipeline_dt_baseline.predict_proba(X_test)[:, 1]\n",
    "\n",
    "print(\"PR AUC (Average Precision):\", average_precision_score(y_test, y_pred_proba))"
   ]
  },
  {
   "cell_type": "code",
   "execution_count": null,
   "id": "13c07a17",
   "metadata": {},
   "outputs": [],
   "source": [
    "# Get precision, recall, and thresholds\n",
    "precision, recall, thresholds = precision_recall_curve(y_test, y_pred_proba)\n",
    "\n",
    "# Calculate PR AUC\n",
    "pr_auc = auc(recall, precision)\n",
    "\n",
    "# Calculate the no-skill line (horizontal line)\n",
    "no_skill = sum(y_test) / len(y_test)  # Proportion of positive cases in y_test\n",
    "\n",
    "# Plot Precision-Recall curve\n",
    "plt.figure(figsize=(8, 6))\n",
    "plt.plot(recall, precision, label=f'PR AUC = {pr_auc:.2f}', color='blue', linewidth=2)\n",
    "plt.axhline(y=no_skill, color='red', linestyle='--', label=f'No Skill (Precision = {no_skill:.2f})')\n",
    "plt.title('Precision-Recall Curve', fontsize=14)\n",
    "plt.xlabel('Recall', fontsize=12)\n",
    "plt.ylabel('Precision', fontsize=12)\n",
    "plt.legend(loc='lower left', fontsize=12)\n",
    "plt.grid(alpha=0.3)\n",
    "plt.show();"
   ]
  },
  {
   "cell_type": "code",
   "execution_count": null,
   "id": "bc1f8b75",
   "metadata": {},
   "outputs": [],
   "source": [
    "# Access the Decision Tree model from the pipeline\n",
    "dt_final_model = pipeline_dt_baseline.named_steps['classifier']\n",
    "\n",
    "# Access the preprocessor from the pipeline\n",
    "preprocessor = pipeline_dt_baseline.named_steps['preprocessor']\n",
    "\n",
    "# Extract the feature names after preprocessing\n",
    "\n",
    "# For categorical features, use get_feature_names_out() to get the encoded feature names\n",
    "categorical_features = preprocessor.transformers_[0][1].get_feature_names_out()\n",
    "\n",
    "# For numerical features, extract the columns directly from X_train\n",
    "numerical_features = X_train.select_dtypes(include=['int64', 'float64']).columns\n",
    "\n",
    "# Combine categorical and numerical features\n",
    "feature_names = np.concatenate([categorical_features, numerical_features])\n",
    "\n",
    "# Extract the feature importances from the decision tree model\n",
    "feature_importances = dt_final_model.feature_importances_\n",
    "\n",
    "# Create a DataFrame with the feature names and their corresponding importance scores\n",
    "feature_importances_df = pd.DataFrame({\n",
    "    'Feature': feature_names,\n",
    "    'Feature_Importance': np.round(feature_importances, 4)  # Use numpy round instead of built-in round\n",
    "}).sort_values(by='Feature_Importance', ascending=False).reset_index(drop=True)\n",
    "\n",
    "# Modify the 'Feature' column to contain only the part after the last '_'\n",
    "feature_importances_df['Feature'] = feature_importances_df['Feature'].apply(\n",
    "    lambda x: x.split('_')[-1]  # Get the part after the last '_'\n",
    ")\n",
    "\n",
    "# Create a column for the original feature name if it's encoded (e.g., \"first_crash_type_pedestrian\")\n",
    "feature_importances_df['Original_Feature'] = feature_importances_df['Feature'].apply(\n",
    "    lambda x: x.split('_')[0] if len(x.split('_')) > 1 else x\n",
    ")\n",
    "\n",
    "# Display the feature importances with their original names\n",
    "pd.set_option('display.max_rows', None)  # No row limit\n",
    "pd.set_option('display.width', None)     # No line width limit"
   ]
  },
  {
   "cell_type": "code",
   "execution_count": null,
   "id": "61a14505",
   "metadata": {},
   "outputs": [],
   "source": [
    "# Display the top 10 features based on feature_importances_\n",
    "feature_importances_df[['Original_Feature', 'Feature', 'Feature_Importance']].head(10)"
   ]
  },
  {
   "cell_type": "markdown",
   "id": "bf48520f",
   "metadata": {},
   "source": [
    "The table above lists the most important features contributing to the prediction of serious (fatal or incapacitating) car crashes based on the decision tree model. These features are ranked by their feature importance score, which indicates how much each feature contributes to reducing uncertainty (entropy) in the decision-making process of the model. \n",
    "* ***Airbag Deployment ('Not Deployed')*** is the most important feature. This indicates that the failure of airbags to deploy during a crash is a significant factor in predicting the severity of the crash.\n",
    "\n",
    "\n",
    "* ***Crash Cause Category ('Unknown/Other')***: This feature is the second most important in the model. However, since it is labeled as “Unknown/Other,” it offers limited actionable insights for decision-making. Despite its usefulness to the model, the ambiguous nature of this category makes it unhelpful for generating specific, actionable recommendations.\n",
    "\n",
    "\n",
    "* ***Sex ('Male')*** also holds notable importance, potentially reflecting differences in crash outcomes between male and female drivers.\n",
    "\n",
    "\n",
    "* Seasonality features such as ***Summer, Winter, and Spring (season_Summer, season_Winter, season_Spring)*** suggest that the time of year has a moderate effect on the likelihood of serious crashes, with weather and road conditions likely playing a role.\n",
    "\n",
    "These findings can be used to better understand the factors that contribute to serious crashes and to inform safety measures and prevention strategies."
   ]
  },
  {
   "cell_type": "code",
   "execution_count": null,
   "id": "b1e7c6f4",
   "metadata": {},
   "outputs": [],
   "source": [
    "# Display the bottom 10 features based on feature_importances_\n",
    "feature_importances_df[['Original_Feature', 'Feature', 'Feature_Importance']].tail(3)"
   ]
  },
  {
   "cell_type": "markdown",
   "id": "eae2c33d",
   "metadata": {},
   "source": [
    "The table below shows the least important features contributing to the prediction of serious (fatal or incapacitating) car crashes based on the decision tree model. These features have very low feature importance scores, indicating that they have minimal impact on the model’s decision-making process.\n",
    "\n",
    "* ***Sex (sex_x)***: This feature represents a category for female drivers but has a very low feature importance score. This suggests that the model does not heavily rely on gender as a predictor of serious crashes in this case.\n",
    "\n",
    "\n",
    "* ***Roadway Surface Condition (Other)***: This feature represents other types of roadway conditions but also contributes very little to the prediction of serious crashes.\n",
    "\n",
    "\n",
    "* ***Roadway Surface Condition (Sand, Mud, Dirt)*** : This feature has a feature importance score of 0, indicating that the model found it to be irrelevant or uninformative in predicting serious crashes.\n",
    "\n",
    "These features are considered less significant for the model’s predictions and may be candidates for further examination or removal in future iterations of the model, depending on the overall modeling goals and the inclusion of additional relevant data."
   ]
  },
  {
   "cell_type": "code",
   "execution_count": null,
   "id": "81e32317",
   "metadata": {},
   "outputs": [],
   "source": [
    "# Plot the tree with a limited max depth for visualization\n",
    "plt.figure(figsize=(20, 10))\n",
    "plot_tree(dt_final_model, \n",
    "          max_depth=3,  # Limit the depth of the plot (you can adjust this)\n",
    "          filled=True, \n",
    "          feature_names=feature_importances_df['Feature'], \n",
    "          class_names=['Not Serious', 'Serious'], \n",
    "          rounded=True, \n",
    "          fontsize=12)\n",
    "plt.show()"
   ]
  },
  {
   "cell_type": "markdown",
   "id": "3d3b5911",
   "metadata": {},
   "source": [
    "## 7. <a name =\"Conclusion\"></a> Conclusion"
   ]
  },
  {
   "cell_type": "markdown",
   "id": "bedb5729",
   "metadata": {},
   "source": [
    "### 7.1 <a name =\"Limitations\"></a> Limitations"
   ]
  },
  {
   "cell_type": "markdown",
   "id": "8e3ba1f9",
   "metadata": {},
   "source": [
    "1. **Data Quality: Police-Reported Data**\n",
    "\n",
    "\n",
    "The quality of the model heavily depends on the data used, which in this case comes from police-reported records. There are two main issues with this:\n",
    "\n",
    "   * **Potential Implicit Bias**: Police reports can be influenced by implicit bias, which may skew the results.\n",
    "\n",
    "   * **Subjectivity and Delayed Reporting**: Police often arrive after a crash has occurred, meaning their reports are based on second-hand accounts and can be subjective. Additionally, individuals involved in the crash may not always provide accurate information.\n",
    "    \n",
    "\n",
    "2. **Decision Tree Interpretation**\n",
    "\n",
    "\n",
    "While decision trees excel at identifying important features and ranking them by their contribution to the model, they do not provide a direct understanding of the magnitude or direction of a feature’s effect on the target variable. Unlike linear regression, where changes in a predictor can be interpreted as affecting the target in a specific way (e.g., increasing by a set amount), decision trees offer an ordinal ranking of features but don’t give us insights into how changes in those features quantitatively affect the target variable.\n",
    "\n",
    "3. **Computing and Time Constraints**\n",
    "\n",
    "\n",
    "Due to the quick turnaround time for this project, the focus was on delivering a deployable minimum viable product. As a result, some decisions made during the data cleaning and modeling phases, such as feature selection, model choice, and hyperparameter tuning, were constrained by time. More time could have allowed for more refined selections and optimizations."
   ]
  },
  {
   "cell_type": "markdown",
   "id": "5be4a401",
   "metadata": {},
   "source": [
    "### 7.2 <a name =\"Recommendations\"></a> Recommendations"
   ]
  },
  {
   "cell_type": "markdown",
   "id": "5f5fd7d2",
   "metadata": {},
   "source": [
    "### 1. **Male Trends Analysis**:\n",
    "The analysis revealed that males were disproportionately represented in serious injury crashes, accounting for **54.4**% of serious injuries despite comprising **47.8**% of total injuries. However, it’s important to note that the data does not distinguish whether males were the drivers or passengers in these situations.\n",
    "\n",
    "#### **Recommendations**:\n",
    "\n",
    "***Further Analysis***: Conduct additional research to determine whether this trend persists when focusing specifically on male drivers.\n",
    "\n",
    "***Targeted Safety Campaign***: If the trend is verified for male drivers, develop a targeted safety campaign aimed at addressing behaviors linked to higher risk, such as speeding and aggressive driving. This campaign could utilize public service announcements, social media outreach, and partnerships with local organizations to encourage safer driving habits.\n",
    "    \n",
    "\n",
    "### 2. **Annual Airbag Inspections and Replacements**:\n",
    "Airbag deployment was identified as the most important feature in predicting injury severity, highlighting its importance in crash safety. To ensure airbags function effectively, especially in older vehicles, regular inspection and maintenance are crucial.\n",
    "\n",
    "#### **Recommendation**:\n",
    "Advocate for policies requiring annual airbag inspections, ensuring they are functional and compliant with modern safety standards.\n",
    "\n",
    "\n",
    "### 3. **Vehicle Size and Speed Regulations**:\n",
    "One of the key findings of this analysis is that airbag deployment (or lack thereof) is a key contributing factor in the injury severity of a crash. Airbags deploy based on the force of impact, which is significantly influenced by vehicle speed and size. Larger, heavier vehicles such as trucks and SUVs contribute to more severe crashes due to the greater forces involved, increasing the likelihood of airbag deployment.\n",
    "\n",
    "#### **Recommendations**:\n",
    "\n",
    "**City-Specific Weight Fees**: Introduce a tiered fee system for parking permits or vehicle registrations within urban areas, where heavier personal vehicles like trucks and SUVs incur higher fees. This financial disincentive could encourage the use of smaller, safer, and more environmentally friendly vehicles in city settings.\n",
    "\n",
    "\n",
    "**Revenue Allocation**: Allocate revenue from these fees to fund pedestrian and cyclist safety initiatives, such as traffic calming measures, better signage, and crash prevention campaigns.\n",
    "\n",
    "\n",
    "**Speed-Limiting Systems**: Advocate for regulations that require or incentivize the use of speed-limiting technology in vehicles. These systems can restrict maximum vehicle speeds to safer limits, reducing the likelihood and severity of crashes."
   ]
  },
  {
   "cell_type": "markdown",
   "id": "96887eea",
   "metadata": {},
   "source": [
    "### 7.3 <a name =\"Next-Steps\"></a> Next Steps"
   ]
  },
  {
   "cell_type": "markdown",
   "id": "d00f1a4a",
   "metadata": {},
   "source": [
    "\n",
    "This raises a crucial question: How do we get drivers to slow down? The answer lies in addressing behavior change—a much more complex challenge. Several strategies have been implemented to reduce speed, from speed cushions to lower speed limits, narrower lanes, and increased police presence in high-speed areas, though debates continue over the most effective approaches."
   ]
  },
  {
   "cell_type": "markdown",
   "id": "cbe9a707",
   "metadata": {},
   "source": [
    "## 8. <a name =\"References\"></a> References "
   ]
  },
  {
   "cell_type": "markdown",
   "id": "7ad4cdc6",
   "metadata": {},
   "source": [
    "1. City of Philadelphia. (2024). *Vision Zero Annual Report 2024*. Philadelphia.gov. https://visionzerophl.com/plans-and-reports/annual-report-2024/\n",
    "\n",
    "\n",
    "2. Chicago Department of Transportation (CDOT). (2024). *Chicago Annual Traffic Report 2024*. City of Chicago. https://api.chicago.gov/filenet5/servlets/getDocumentContent?applicationId=CompleteStreets&documentId=%7B60FB7292-0000-CB1B-AC4D-334F5F94606B%7D\n",
    "\n",
    "\n",
    "3. Vision Zero Network. (2024). *What is Vision Zero?* Vision Zero Network. https://visionzeronetwork.org/about/what-is-vision-zero/\n",
    "\n",
    "\n",
    "4. Vision Zero Philadelphia. (n.d.). *Get involved*. Vision Zero Philadelphia. https://visionzerophl.com/get-involved/\n",
    "\n",
    "\n",
    "5. Illinois Department of Transportation. (2024). *Illinois fatal crash data: 2024 snapshot*. Illinois Department of Transportation. https://apps.dot.illinois.gov/FatalCrash/snapshot.html\n",
    "\n",
    "\n",
    "6. City of Chicago. (2017). *Vision Zero Action Plan 2017-2019*. City of Chicago. https://api.chicago.gov/filenet5/servlets/getDocumentContent?applicationId=CompleteStreets&documentId=%7B0031C690-0000-C016-92E9-31618D7320B1%7D"
   ]
  }
 ],
 "metadata": {
  "kernelspec": {
   "display_name": "Python (learn-env)",
   "language": "python",
   "name": "learn-env"
  },
  "language_info": {
   "codemirror_mode": {
    "name": "ipython",
    "version": 3
   },
   "file_extension": ".py",
   "mimetype": "text/x-python",
   "name": "python",
   "nbconvert_exporter": "python",
   "pygments_lexer": "ipython3",
   "version": "3.8.5"
  }
 },
 "nbformat": 4,
 "nbformat_minor": 5
}
