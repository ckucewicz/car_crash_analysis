{
 "cells": [
  {
   "cell_type": "markdown",
   "id": "b6453681",
   "metadata": {},
   "source": [
    "# Chicago Car Crash Analysis"
   ]
  },
  {
   "cell_type": "markdown",
   "id": "79040352",
   "metadata": {},
   "source": [
    "## Overview\n",
    "This project analyzes traffic crash data from Chicago's Open Data Portal to identify patterns and factors contributing to accidents. By leveraging datasets on crash incidents, involved people, and vehicles, the analysis provides actionable insights into high-risk conditions and behaviors. The results aim to inform public safety initiatives and reduce traffic incidents through data-driven decisions.\n",
    "\n",
    "\n",
    "<img src=\"./images/chicago_header_image.jpg\" width=\"1280\" height=\"640\">\n",
    "\n",
    "*Photo by [Sawyer Bengtson](https://unsplash.com/@sawyerbengtson) on Unsplash*\n",
    "___"
   ]
  },
  {
   "cell_type": "markdown",
   "id": "3e2e65f1",
   "metadata": {},
   "source": [
    "## Table of Contents\n",
    "\n",
    "### 1. [Business Understanding](#Business-Understanding)\n",
    "* 1.1 [Background](#Background)\n",
    "* 1.2 [Goals](#Goals)\n",
    "* 1.3 [Success Criteria](#Success-Criteria)\n",
    "   \n",
    "### 2. [Data Understanding](#Data-Understanding)\n",
    "\n",
    "\n",
    "### 3. [Data Preparation](#Data-Preparation)\n",
    "\n",
    "### 4. [Exploratory Data Analysis](#Exploratory-Data-Analysis)\n",
    "\n",
    "\n",
    "### 5. [Modeling](#Modeling)\n",
    "\n",
    "\n",
    "### 6. [Evaluation](#Evaluation)\n",
    "\n",
    "### 7. [Conclusion](#Conclusion)\n",
    "* 7.1 [Limitations](#Limitations)\n",
    "* 7.2 [Recommendations](#Recommendations)\n",
    "* 7.3 [Next Steps](#Next-Steps)\n",
    "\n",
    "### 8. [References](#References)"
   ]
  },
  {
   "cell_type": "markdown",
   "id": "d84e3132",
   "metadata": {},
   "source": [
    "## 1. <a name =\"Business-Understanding\"></a> Business Understanding"
   ]
  },
  {
   "cell_type": "markdown",
   "id": "1f4c4901",
   "metadata": {},
   "source": [
    "### 1.1 <a name =\"Background\"></a> Background "
   ]
  },
  {
   "cell_type": "markdown",
   "id": "e7272c0c",
   "metadata": {},
   "source": [
    "[Vision Zero](https://visionzeronetwork.org/about/what-is-vision-zero/) is a traffic safety initiative aimed at eliminating traffic deaths. Despite pledges from many U.S. cities, traffic fatalities remain a persistent issue. In 2024, Illinois recorded 1,111 traffic deaths, with 361 in Cook County (including Chicago) ([source](https://apps.dot.illinois.gov/FatalCrash/snapshot.html)). Traffic safety is also an equity issue, as Black and Brown communities, particularly in urban areas like Chicago and Philadelphia, experience disproportionately high traffic fatalities. Analysis from the Philadelphia Department of Public Health reveals that zip codes with higher poverty rates also have higher traffic crash hospitalization rates (City of Philadelphia, 2024). These communities often face underinvestment in infrastructure, contributing to these disparities. \n",
    "\n",
    "\n",
    "One distinguishing aspect of traffic fatalities is that they are largely preventable. Existing research highlights speed as one of the leading contributors to traffic deaths, with speed often seen as a critical factor in the severity of crashes. This raises the question: How do we get drivers to slow down? The deeper issue becomes a question of behavior change, which is much trickier to address. Different strategies have been employed to varying degrees, but there is often debate over the most effective methods to achieve meaningful change in driver behavior, such as the use of speed cushions, lowering speed limits, trimming lane size, or increasing police presence in high-speed areas.\n",
    "\n",
    "Through my involvement with the [City of Philadelphia’s Vision Zero Ambassadors](https://visionzerophl.com/get-involved/) program, I gained extensive domain knowledge and firsthand experience in community engagement, where I worked to raise awareness and drive actions toward traffic safety in underserved neighborhoods. This work provided me with a deeper understanding of the challenges faced by vulnerable communities and the importance of strategic, data-driven interventions in reducing traffic fatalities."
   ]
  },
  {
   "cell_type": "markdown",
   "id": "6c2b9025",
   "metadata": {},
   "source": [
    "### 1.2 <a name =\"Goals\"></a> Goals"
   ]
  },
  {
   "cell_type": "markdown",
   "id": "a81b80c8",
   "metadata": {},
   "source": [
    "The goal of this project is to develop a model that predicts whether a crash resulted in serious or fatal injuries. For the purposes of this project, ‘serious’ injuries refer to ‘incapacitating’ injuries, as defined by Chicago’s Department of Transportation (CDOT). CDOT defines incapacitating injuries as injuries that prevent an individual from walking, driving, or performing normal activities. By predicting crash severity, the model aims to identify which factors—such as speed, road conditions, road design, enforcement, and vehicle type & size—are most strongly associated with the outcomes. The analysis will be based on data from Chicago’s open data portal, which includes detailed records on traffic incidents across the city.\n",
    "\n",
    "\n",
    "The model will be designed to be easily interpretable, meaning it will provide clear and understandable explanations for how it arrives at its predictions. This is crucial for decision-makers, as it allows them to trust the model’s results and use it to guide traffic safety policies and resource allocation. An easily interpretable model will help agencies like CDOT and the Chicago Metropolitan Agency for Planning (CMAP) target resources more effectively, allow policymakers to evaluate the impact of different safety strategies, and help make informed decisions about where to focus their efforts. Ultimately, this model will assist in making data-driven decisions that reduce fatalities and improve the overall safety of Chicago’s roadways."
   ]
  },
  {
   "cell_type": "markdown",
   "id": "4e6f413e",
   "metadata": {},
   "source": [
    "### 1.3 <a name =\"Success-Criteria\"></a> Success Criteria"
   ]
  },
  {
   "cell_type": "markdown",
   "id": "9ad6a094",
   "metadata": {},
   "source": [
    "The success of this project will be determined by how easily the model can explain its predictions and which features are driving the outcomes. Although the focus is on model interpretability, measuring the model’s ability to accurately predict whether a crash resulted in serious or fatal injuries is also a key success criterion, as it provides information about how confident we can be about the results. Since this will be treated as a classification problem (i.e., classifying a crash to have fatal/serious injuries or not), classification metrics that I will measure are accuracy, precision, recall, and F1.\n",
    "\n",
    "\n",
    "The model will be considered successful if it achieves moderate accuracy (e.g., between 65% and 80%) and provides clear, actionable insights that guide traffic safety policies and resource allocation. This moderate accuracy ensures that the insights gained from the model are trustworthy enough for stakeholders to implement targeted interventions effectively."
   ]
  },
  {
   "cell_type": "markdown",
   "id": "ab325ae4",
   "metadata": {},
   "source": [
    "## 2. <a name =\"Data-Understanding\"></a> Data Understanding"
   ]
  },
  {
   "cell_type": "markdown",
   "id": "77b8a5b1",
   "metadata": {},
   "source": [
    "The data for this project came from the city of [Chicago's Data Portal](https://data.cityofchicago.org/). Within this database, I used three different traffic crash datasets: \n",
    "1. [Traffic Crashes - Crashes](https://data.cityofchicago.org/Transportation/Traffic-Crashes-Crashes/85ca-t3if/about_data): Contains detailed information about each traffic crash that occurred within the City of Chicago.\n",
    "    * Total of **901k** observations with **48** features.\n",
    "        * Includes fields such as crash date, crash location, weather conditions, road conditions, and contributing factors like speed limits.\n",
    "    * Unique identifier for each crash is the `CRASH_RECORD_ID`.\n",
    "    * Updated regularly, with the most recent update on Dec 12, 2024.\n",
    "    * Earliest recorded data dates back to March of 2023.\n",
    "<br><br>\n",
    "\n",
    "2. [Traffic Crashes - People](https://data.cityofchicago.org/Transportation/Traffic-Crashes-People/u6pd-qa9d/about_data): Provides information about individuals involved in a traffic crash, including details about their injuries \n",
    "    * Total of **1.98M** observations with **29** features.\n",
    "        * Each record corresponds to an occupant in a vehicle listed in the Crash dataset, and it includes data such as the type of injury, role (driver, passenger, pedestrian, etc.), and whether the individual sustained any injuries.\n",
    "    * The unique identifier for each record is `CRASH_RECORD_ID`.\n",
    "    * Updated regularly, with the most recent update on Dec 12, 2024.\n",
    "    * Earliest recorded data dates back to March of 2023.\n",
    "<br><br>\n",
    "\n",
    "3. [Traffic Crashes - Vehicles](https://data.cityofchicago.org/Transportation/Traffic-Crashes-Vehicles/68nd-jvt3/about_data): Contains information about the vehicle(s) involved in traffic crashes. \n",
    "   \n",
    "    * Total of **1.84M** observations with **71** features.\n",
    "        * Each “unit” involved in a crash (e.g., motor vehicles, bicycles, pedestrians) is assigned a record. \n",
    "        * Information about the vehicle type, damage, and trajectory, as well as the relationship with the individuals involved (drivers, passengers, pedestrians).\n",
    "        \n",
    "    * Links to the `Crash` and `People` datasets using the `CRASH_RECORD_ID`. \n",
    "    * Updated regularly, with the most recent update on Dec 12, 2024.\n",
    "    * Earliest recorded data dates back to March of 2023."
   ]
  },
  {
   "cell_type": "markdown",
   "id": "bc810448",
   "metadata": {},
   "source": [
    "### 2.1 Importing Necessary Libraries and Data"
   ]
  },
  {
   "cell_type": "code",
   "execution_count": 1,
   "id": "183e3903",
   "metadata": {},
   "outputs": [],
   "source": [
    "# for getting data\n",
    "import os\n",
    "import zipfile\n",
    "\n",
    "# for data analysis\n",
    "import pandas as pd\n",
    "import numpy as np\n",
    "import matplotlib.pyplot as plt\n",
    "import seaborn as sns\n",
    "import math\n",
    "%matplotlib inline\n",
    "\n",
    "# for modeling"
   ]
  },
  {
   "cell_type": "code",
   "execution_count": 2,
   "id": "0b1ea713",
   "metadata": {},
   "outputs": [],
   "source": [
    "# Sets environment variable to point to the location of kaggle.json\n",
    "os.environ['KAGGLE_CONFIG_DIR'] = './config'"
   ]
  },
  {
   "cell_type": "code",
   "execution_count": 3,
   "id": "02116262",
   "metadata": {},
   "outputs": [
    {
     "name": "stdout",
     "output_type": "stream",
     "text": [
      "./config\n"
     ]
    }
   ],
   "source": [
    "# Check if the KAGGLE_CONFIG_DIR environment variable is set\n",
    "print(os.getenv('KAGGLE_CONFIG_DIR'))"
   ]
  },
  {
   "cell_type": "code",
   "execution_count": 4,
   "id": "1866283f",
   "metadata": {},
   "outputs": [
    {
     "name": "stdout",
     "output_type": "stream",
     "text": [
      "ckucewicz/Chicago-Traffic-Data already downloaded.\n",
      "Unzipping Chicago-Traffic-Data.zip...\n",
      "Loading CSV: people.csv...\n",
      "Loading CSV: traffic_crashes.csv...\n",
      "Loading CSV: vehicles.csv...\n"
     ]
    }
   ],
   "source": [
    "# Information about the dataset\n",
    "dataset_name = 'ckucewicz/Chicago-Traffic-Data'\n",
    "zip_filename = 'Chicago-Traffic-Data.zip' \n",
    "download_path = './data'\n",
    "unzip_path = './data'\n",
    "\n",
    "# Step 1: Downloads dataset from Kaggle, if not already downloaded\n",
    "dataset_path = os.path.join(download_path, zip_filename)\n",
    "if not os.path.exists(dataset_path):\n",
    "    print(f\"Downloading {dataset_name}...\")\n",
    "    os.system(f\"kaggle datasets download -d {dataset_name} --path {download_path}\")\n",
    "else:\n",
    "    print(f\"{dataset_name} already downloaded.\")\n",
    "\n",
    "# Step 2: Unzips the downloaded file\n",
    "print(f\"Unzipping {zip_filename}...\")\n",
    "with zipfile.ZipFile(dataset_path, 'r') as zip_ref:\n",
    "    zip_ref.extractall(unzip_path)\n",
    "\n",
    "# Step 3: Loads the CSV files into pandas dataframes\n",
    "csv_filenames = ['people.csv', 'traffic_crashes.csv', 'vehicles.csv']\n",
    "dataframes = {}\n",
    "for csv_filename in csv_filenames:\n",
    "    csv_file = os.path.join(unzip_path, csv_filename)\n",
    "    print(f\"Loading CSV: {csv_filename}...\")\n",
    "    \n",
    "    # Creates a variable name based on the CSV filename\n",
    "    dataframe_name = csv_filename.split('.')[0]\n",
    "    \n",
    "    # Stores the dataframe in the dictionary\n",
    "    dataframes[dataframe_name] = pd.read_csv(csv_file, low_memory = False)\n",
    "\n",
    "     # Prints \"Complete\" once the CSV is successfully loaded\n",
    "    print(f\"Loading of {dataframe_name} complete.\")\n",
    "    print(\"-\" * 50)\n",
    "\n",
    "# stores each dataset in its own variable\n",
    "people_df = dataframes['people']\n",
    "traffic_crashes_df = dataframes['traffic_crashes']\n",
    "vehicles_df = dataframes['vehicles']"
   ]
  },
  {
   "cell_type": "markdown",
   "id": "3d158de8",
   "metadata": {},
   "source": [
    "### 2.2 Data Understanding Function"
   ]
  },
  {
   "cell_type": "code",
   "execution_count": null,
   "id": "c3375610",
   "metadata": {},
   "outputs": [],
   "source": [
    "# Dataset understanding function\n",
    "def dataset_understanding(dataset_path, date_col=None):\n",
    "    \"\"\"\n",
    "    Automates the process of understanding the structure and contents of a given dataset.\n",
    "\n",
    "    This function provides an overview of the dataset by:\n",
    "    - Loading the dataset from a specified CSV file.\n",
    "    - Displaying the first few rows of the dataset.\n",
    "    - Printing information about the columns and data types.\n",
    "    - Calculating and displaying the percentage of missing values for each feature.\n",
    "    - Displaying the value counts and number of unique values for each feature.\n",
    "    - Plotting histograms for numeric features and bar charts for categorical features.\n",
    "    - Analyzing a date column (if specified) to identify the earliest and latest dates.\n",
    "\n",
    "    Parameters:\n",
    "    dataset_path (str): The path to the dataset CSV file to be analyzed.\n",
    "    date_col (str, optional): The name of the column containing date values to analyze. \n",
    "                              If provided, the function will calculate the earliest and latest dates.\n",
    "\n",
    "    Returns:\n",
    "    pandas.DataFrame: The loaded DataFrame with the dataset contents.\n",
    "    \n",
    "    \"\"\"\n",
    "    # Read the dataset\n",
    "    print(f\"Loading dataset from {dataset_path}...\\n\")\n",
    "    df = pd.read_csv(dataset_path, low_memory=False)\n",
    "    \n",
    "    # Print the first 5 rows\n",
    "    print(\"First 5 rows of the dataset:\\n\")\n",
    "    print(df.head(), \"\\n\")\n",
    "    \n",
    "    # Print info about columns\n",
    "    print(\"DataFrame Info:\\n\")\n",
    "    print(df.info(), \"\\n\")\n",
    "    \n",
    "    # Calculate and print percentage of missing values\n",
    "    print(\"Percentage of missing values in each feature:\\n\")\n",
    "    print(round((df.isna().sum() / len(df) * 100), 2), \"\\n\")\n",
    "    \n",
    "    # Loop through features and print value counts and unique values\n",
    "    print(\"Value counts and number of unique values for each feature:\\n\")\n",
    "    for feature in df.columns:\n",
    "        print(f\"Value counts for column '{feature}':\")\n",
    "        print(df[feature].value_counts())\n",
    "        print(f\"Number of unique values: {df[feature].nunique()}\\n\")\n",
    "        print(\"-\" * 50, \"\\n\")\n",
    "    \n",
    "    # Plot histograms for numeric features\n",
    "    numeric_cols = df.select_dtypes(include='number').columns\n",
    "    print(\"Plotting histograms for numeric features...\\n\")\n",
    "    df[numeric_cols].hist(bins=20, figsize=(12, 10))\n",
    "    plt.tight_layout()\n",
    "    plt.show()\n",
    "    \n",
    "    # Plot bar charts for categorical features (top 20 categories)\n",
    "    categorical_cols = [col for col in df.select_dtypes(include='object').columns if col != 'CRASH_RECORD_ID']\n",
    "    print(\"Plotting bar charts for categorical features (top 20 categories)...\\n\")\n",
    "    n_cols = 3\n",
    "    n_rows = math.ceil(len(categorical_cols) / n_cols)\n",
    "    fig, axes = plt.subplots(n_rows, n_cols, figsize=(25, n_rows * 5))\n",
    "    axes = axes.flatten()\n",
    "    \n",
    "    for i, col in enumerate(categorical_cols):\n",
    "        ax = axes[i]\n",
    "        top_categories = df[col].value_counts().head(20)\n",
    "        top_categories.plot(kind='bar', ax=ax, color='skyblue', edgecolor='black')\n",
    "        ax.set_title(f'Bar Chart of {col}')\n",
    "        ax.set_xlabel(col)\n",
    "        ax.set_ylabel('Count')\n",
    "        ax.tick_params(axis='x', rotation=0)\n",
    "    \n",
    "    for j in range(len(categorical_cols), len(axes)):\n",
    "        fig.delaxes(axes[j])\n",
    "    \n",
    "    plt.tight_layout()\n",
    "    plt.show()\n",
    "    \n",
    "    # Analyze date column for earliest and latest dates if provided\n",
    "    if date_col:\n",
    "        print(f\"Analyzing date column '{date_col}'...\\n\")\n",
    "        df[date_col] = pd.to_datetime(df[date_col], errors='coerce')\n",
    "        earliest_date = df[date_col].min()\n",
    "        latest_date = df[date_col].max()\n",
    "        print(f\"Earliest {date_col}: {earliest_date}\")\n",
    "        print(f\"Latest {date_col}: {latest_date}\\n\")\n",
    "    \n",
    "    return df"
   ]
  },
  {
   "cell_type": "markdown",
   "id": "0c5f0c2d",
   "metadata": {},
   "source": [
    "### 2.2.1 Crashes Dataset"
   ]
  },
  {
   "cell_type": "code",
   "execution_count": null,
   "id": "6bb444f1",
   "metadata": {},
   "outputs": [],
   "source": [
    "# Data understanding for Crashes dataset\n",
    "crashes_df = dataset_understanding('./data/Traffic_Crashes_-_Crashes_20241213.csv', date_col='CRASH_DATE')"
   ]
  },
  {
   "cell_type": "markdown",
   "id": "7d2e4d87",
   "metadata": {},
   "source": [
    "### 2.2.2 People Dataset"
   ]
  },
  {
   "cell_type": "code",
   "execution_count": null,
   "id": "6b12b0b7",
   "metadata": {
    "scrolled": true
   },
   "outputs": [],
   "source": [
    "# Data understanding for People dataset\n",
    "people_df = dataset_understanding('./data/Traffic_Crashes_-_People_20241213.csv', date_col = 'CRASH_DATE')"
   ]
  },
  {
   "cell_type": "markdown",
   "id": "1354c552",
   "metadata": {},
   "source": [
    "### 2.2.3 Vehicles Dataset"
   ]
  },
  {
   "cell_type": "code",
   "execution_count": null,
   "id": "ee0ff9c5",
   "metadata": {},
   "outputs": [],
   "source": [
    "# Data understanding for Vehicles dataset\n",
    "vehicles_df = dataset_understanding('./data/Traffic_Crashes_-_Vehicles_20241213.csv', date_col = 'CRASH_DATE')"
   ]
  },
  {
   "cell_type": "markdown",
   "id": "545d05ef",
   "metadata": {},
   "source": [
    "## 3. <a name =\"Data-Preparation\"></a> Data Preparation"
   ]
  },
  {
   "cell_type": "markdown",
   "id": "0c90c629",
   "metadata": {},
   "source": []
  },
  {
   "cell_type": "markdown",
   "id": "a2ee1332",
   "metadata": {},
   "source": [
    "## 4. <a name =\"Exploratory-Data-Analysis\"></a>Exploratory Data Analysis (EDA)"
   ]
  },
  {
   "cell_type": "markdown",
   "id": "d75c5193",
   "metadata": {},
   "source": []
  },
  {
   "cell_type": "markdown",
   "id": "0ed171ed",
   "metadata": {},
   "source": [
    "## 5. <a name =\"Modeling\"></a>  Modeling"
   ]
  },
  {
   "cell_type": "markdown",
   "id": "826f7010",
   "metadata": {},
   "source": []
  },
  {
   "cell_type": "markdown",
   "id": "00af8932",
   "metadata": {},
   "source": [
    "## 6. <a name =\"Evaluation\"></a> Evaluation"
   ]
  },
  {
   "cell_type": "markdown",
   "id": "9c042bf0",
   "metadata": {},
   "source": []
  },
  {
   "cell_type": "markdown",
   "id": "22437ff2",
   "metadata": {},
   "source": [
    "## 7. <a name =\"Conclusion\"></a> Conclusion"
   ]
  },
  {
   "cell_type": "markdown",
   "id": "d7ea69b1",
   "metadata": {},
   "source": [
    "### 7.1 <a name =\"Limitations\"></a> Limitations"
   ]
  },
  {
   "cell_type": "markdown",
   "id": "261f9257",
   "metadata": {},
   "source": []
  },
  {
   "cell_type": "markdown",
   "id": "5ede4f7e",
   "metadata": {},
   "source": [
    "### 7.2 <a name =\"Recommendations\"></a> Recommendations"
   ]
  },
  {
   "cell_type": "markdown",
   "id": "b6a66f98",
   "metadata": {},
   "source": []
  },
  {
   "cell_type": "markdown",
   "id": "3fb66ff8",
   "metadata": {},
   "source": [
    "### 7.3 <a name =\"Next-Steps\"></a> Next Steps"
   ]
  },
  {
   "cell_type": "markdown",
   "id": "e4375838",
   "metadata": {},
   "source": []
  },
  {
   "cell_type": "markdown",
   "id": "fcc2b2cb",
   "metadata": {},
   "source": [
    "## 8. References"
   ]
  },
  {
   "cell_type": "markdown",
   "id": "e10838d7",
   "metadata": {},
   "source": [
    "1. City of Philadelphia. (2024). *Vision Zero Annual Report 2024*. Philadelphia.gov. https://visionzerophl.com/plans-and-reports/annual-report-2024/"
   ]
  }
 ],
 "metadata": {
  "kernelspec": {
   "display_name": "Python (learn-env)",
   "language": "python",
   "name": "learn-env"
  },
  "language_info": {
   "codemirror_mode": {
    "name": "ipython",
    "version": 3
   },
   "file_extension": ".py",
   "mimetype": "text/x-python",
   "name": "python",
   "nbconvert_exporter": "python",
   "pygments_lexer": "ipython3",
   "version": "3.8.5"
  }
 },
 "nbformat": 4,
 "nbformat_minor": 5
}
